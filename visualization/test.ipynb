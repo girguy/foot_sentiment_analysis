{
 "cells": [
  {
   "cell_type": "code",
   "execution_count": 42,
   "metadata": {},
   "outputs": [],
   "source": [
    "import sys\n",
    "import os\n",
    "import polars as pl\n",
    "from great_tables import GT\n",
    "\n",
    "# Add project root to sys.path\n",
    "sys.path.append(os.path.abspath(os.path.join(os.path.abspath(''), '..')))\n",
    "\n",
    "from AzureBlobLoader import AzureBlobLoader\n",
    "from utils.config import CONFIG, CONN_STRING_AZURE_STORAGE\n",
    "\n",
    "def load_data():\n",
    "    try:\n",
    "        loader = AzureBlobLoader(CONFIG, CONN_STRING_AZURE_STORAGE)\n",
    "        dataframes = loader.load_dataframes()\n",
    "        print(\"Data loaded successfully!\")\n",
    "        return dataframes\n",
    "    except Exception as e:\n",
    "        print(f\"Error loading data: {e}\", exc_info=True)\n",
    "\n",
    "def count_article_reaction(df_fact_title, df_fact_reaction, df_team):\n",
    "    df_nb_articles = df_fact_title \\\n",
    "        .select([\"fk_team_id\", \"article_id\"]) \\\n",
    "        .group_by(\"fk_team_id\") \\\n",
    "        .n_unique() \\\n",
    "        .rename({\"article_id\": \"count_article\"}) \\\n",
    "        .join(df_team, left_on=\"fk_team_id\", right_on=\"team_id\", how=\"inner\") \\\n",
    "        .drop(\"fk_team_id\") \\\n",
    "        .sort(\"count_article\")\n",
    "\n",
    "    df_nb_reaction = df_fact_reaction \\\n",
    "        .select([\"fk_team_id\", \"reaction_id\"]) \\\n",
    "        .group_by(\"fk_team_id\") \\\n",
    "        .n_unique() \\\n",
    "        .rename({\"reaction_id\": \"count_reaction\"}) \\\n",
    "        .join(df_team, left_on=\"fk_team_id\", right_on=\"team_id\", how=\"inner\") \\\n",
    "        .drop(\"fk_team_id\") \\\n",
    "        .sort(\"count_reaction\")\n",
    "\n",
    "    df_count = df_nb_articles \\\n",
    "        .join(df_nb_reaction, on=\"team_name\", how=\"left\") \\\n",
    "        .with_columns((pl.col(\"count_article\")+pl.col(\"count_reaction\")).alias(\"count\"))\n",
    "\n",
    "    return df_count"
   ]
  },
  {
   "cell_type": "code",
   "execution_count": 43,
   "metadata": {},
   "outputs": [
    {
     "name": "stdout",
     "output_type": "stream",
     "text": [
      "Successfully read blob from gold/epl_news/dim_date.parquet\n",
      "Successfully read blob from gold/epl_news/article.parquet\n",
      "Successfully read blob from gold/epl_news/dim_team.parquet\n",
      "Successfully read blob from gold/epl_news/reaction.parquet\n",
      "Successfully read blob from gold/epl_news/dim_sentiment.parquet\n",
      "Successfully read blob from gold/epl_news/fact_reaction.parquet\n",
      "Successfully read blob from gold/epl_news/fact_title.parquet\n",
      "Data loaded successfully!\n"
     ]
    }
   ],
   "source": [
    "dataframes = load_data()"
   ]
  },
  {
   "cell_type": "code",
   "execution_count": 44,
   "metadata": {},
   "outputs": [],
   "source": [
    "df_date = dataframes['df_date']\n",
    "df_article = dataframes['df_article']\n",
    "df_team = dataframes['df_team']\n",
    "df_sentiment = dataframes['df_sentiment']\n",
    "df_fact_reaction = dataframes['df_fact_reaction']\n",
    "df_fact_title = dataframes['df_fact_title']"
   ]
  },
  {
   "cell_type": "markdown",
   "metadata": {},
   "source": [
    "### clean dataframes"
   ]
  },
  {
   "cell_type": "code",
   "execution_count": 45,
   "metadata": {},
   "outputs": [
    {
     "data": {
      "text/html": [
       "<div><style>\n",
       ".dataframe > thead > tr,\n",
       ".dataframe > tbody > tr {\n",
       "  text-align: right;\n",
       "  white-space: pre-wrap;\n",
       "}\n",
       "</style>\n",
       "<small>shape: (5, 4)</small><table border=\"1\" class=\"dataframe\"><thead><tr><th>article_id</th><th>fk_team_id</th><th>article_title</th><th>published_at</th></tr><tr><td>str</td><td>i64</td><td>str</td><td>date</td></tr></thead><tbody><tr><td>&quot;be406f7ac21ceebc&quot;</td><td>4</td><td>&quot;Frank on injury difficulties, …</td><td>2024-09-20</td></tr><tr><td>&quot;d55846dad4602adc&quot;</td><td>9</td><td>&quot;Benfica 0-1 Fulham - fans&#x27; ver…</td><td>2024-08-05</td></tr><tr><td>&quot;05c7661423faa4a6&quot;</td><td>19</td><td>&quot;Hammers scour out-of-contract …</td><td>2024-09-04</td></tr><tr><td>&quot;fea18ed8677643bb&quot;</td><td>13</td><td>&quot;Will Guardiola take my advice?&quot;</td><td>2024-10-09</td></tr><tr><td>&quot;33184f575985025a&quot;</td><td>14</td><td>&quot;Evans and Maguire &#x27;United&#x27;s be…</td><td>2024-10-07</td></tr></tbody></table></div>"
      ],
      "text/plain": [
       "shape: (5, 4)\n",
       "┌──────────────────┬────────────┬─────────────────────────────────┬──────────────┐\n",
       "│ article_id       ┆ fk_team_id ┆ article_title                   ┆ published_at │\n",
       "│ ---              ┆ ---        ┆ ---                             ┆ ---          │\n",
       "│ str              ┆ i64        ┆ str                             ┆ date         │\n",
       "╞══════════════════╪════════════╪═════════════════════════════════╪══════════════╡\n",
       "│ be406f7ac21ceebc ┆ 4          ┆ Frank on injury difficulties, … ┆ 2024-09-20   │\n",
       "│ d55846dad4602adc ┆ 9          ┆ Benfica 0-1 Fulham - fans' ver… ┆ 2024-08-05   │\n",
       "│ 05c7661423faa4a6 ┆ 19         ┆ Hammers scour out-of-contract … ┆ 2024-09-04   │\n",
       "│ fea18ed8677643bb ┆ 13         ┆ Will Guardiola take my advice?  ┆ 2024-10-09   │\n",
       "│ 33184f575985025a ┆ 14         ┆ Evans and Maguire 'United's be… ┆ 2024-10-07   │\n",
       "└──────────────────┴────────────┴─────────────────────────────────┴──────────────┘"
      ]
     },
     "execution_count": 45,
     "metadata": {},
     "output_type": "execute_result"
    }
   ],
   "source": [
    "df_fact_title = dataframes['df_article']\n",
    "df_fact_title = df_fact_title.filter(pl.col(\"article_id\").is_not_null())\n",
    "df_fact_title = df_fact_title.unique()\n",
    "df_fact_title.head()"
   ]
  },
  {
   "cell_type": "code",
   "execution_count": 46,
   "metadata": {},
   "outputs": [
    {
     "data": {
      "text/html": [
       "<div><style>\n",
       ".dataframe > thead > tr,\n",
       ".dataframe > tbody > tr {\n",
       "  text-align: right;\n",
       "  white-space: pre-wrap;\n",
       "}\n",
       "</style>\n",
       "<small>shape: (5, 10)</small><table border=\"1\" class=\"dataframe\"><thead><tr><th>reaction_id</th><th>fk_article_id</th><th>fk_sentiment_id</th><th>fk_team_id</th><th>fk_date_id</th><th>content</th><th>sentiment_score</th><th>subjectivity_score</th><th>is_subjective</th><th>is_fan</th></tr><tr><td>str</td><td>str</td><td>i64</td><td>i64</td><td>date</td><td>str</td><td>f64</td><td>f64</td><td>str</td><td>bool</td></tr></thead><tbody><tr><td>&quot;aa2f26130f904f8f_fan_1&quot;</td><td>&quot;aa2f26130f904f8f&quot;</td><td>1</td><td>12</td><td>2024-10-07</td><td>&quot;For the second game in a row w…</td><td>-0.007576</td><td>0.487879</td><td>&quot;objective&quot;</td><td>true</td></tr><tr><td>&quot;aa2f26130f904f8f_fan_2&quot;</td><td>&quot;aa2f26130f904f8f&quot;</td><td>3</td><td>12</td><td>2024-10-07</td><td>&quot;Liverpool were nothing special…</td><td>0.464286</td><td>0.505357</td><td>&quot;subjective&quot;</td><td>true</td></tr><tr><td>&quot;aa2f26130f904f8f_fan_3&quot;</td><td>&quot;aa2f26130f904f8f&quot;</td><td>1</td><td>12</td><td>2024-10-07</td><td>&quot;So frustrating. Woeful in the …</td><td>0.187778</td><td>0.447778</td><td>&quot;objective&quot;</td><td>true</td></tr><tr><td>&quot;aa2f26130f904f8f_fan_4&quot;</td><td>&quot;aa2f26130f904f8f&quot;</td><td>1</td><td>12</td><td>2024-10-07</td><td>&quot;Tough start to the season for …</td><td>0.059503</td><td>0.491466</td><td>&quot;objective&quot;</td><td>true</td></tr><tr><td>&quot;aa2f26130f904f8f_fan_5&quot;</td><td>&quot;aa2f26130f904f8f&quot;</td><td>1</td><td>12</td><td>2024-10-07</td><td>&quot;Hard-fought win and made harde…</td><td>0.198333</td><td>0.32</td><td>&quot;objective&quot;</td><td>true</td></tr></tbody></table></div>"
      ],
      "text/plain": [
       "shape: (5, 10)\n",
       "┌────────────┬────────────┬───────────┬───────────┬───┬───────────┬───────────┬───────────┬────────┐\n",
       "│ reaction_i ┆ fk_article ┆ fk_sentim ┆ fk_team_i ┆ … ┆ sentiment ┆ subjectiv ┆ is_subjec ┆ is_fan │\n",
       "│ d          ┆ _id        ┆ ent_id    ┆ d         ┆   ┆ _score    ┆ ity_score ┆ tive      ┆ ---    │\n",
       "│ ---        ┆ ---        ┆ ---       ┆ ---       ┆   ┆ ---       ┆ ---       ┆ ---       ┆ bool   │\n",
       "│ str        ┆ str        ┆ i64       ┆ i64       ┆   ┆ f64       ┆ f64       ┆ str       ┆        │\n",
       "╞════════════╪════════════╪═══════════╪═══════════╪═══╪═══════════╪═══════════╪═══════════╪════════╡\n",
       "│ aa2f26130f ┆ aa2f26130f ┆ 1         ┆ 12        ┆ … ┆ -0.007576 ┆ 0.487879  ┆ objective ┆ true   │\n",
       "│ 904f8f_fan ┆ 904f8f     ┆           ┆           ┆   ┆           ┆           ┆           ┆        │\n",
       "│ _1         ┆            ┆           ┆           ┆   ┆           ┆           ┆           ┆        │\n",
       "│ aa2f26130f ┆ aa2f26130f ┆ 3         ┆ 12        ┆ … ┆ 0.464286  ┆ 0.505357  ┆ subjectiv ┆ true   │\n",
       "│ 904f8f_fan ┆ 904f8f     ┆           ┆           ┆   ┆           ┆           ┆ e         ┆        │\n",
       "│ _2         ┆            ┆           ┆           ┆   ┆           ┆           ┆           ┆        │\n",
       "│ aa2f26130f ┆ aa2f26130f ┆ 1         ┆ 12        ┆ … ┆ 0.187778  ┆ 0.447778  ┆ objective ┆ true   │\n",
       "│ 904f8f_fan ┆ 904f8f     ┆           ┆           ┆   ┆           ┆           ┆           ┆        │\n",
       "│ _3         ┆            ┆           ┆           ┆   ┆           ┆           ┆           ┆        │\n",
       "│ aa2f26130f ┆ aa2f26130f ┆ 1         ┆ 12        ┆ … ┆ 0.059503  ┆ 0.491466  ┆ objective ┆ true   │\n",
       "│ 904f8f_fan ┆ 904f8f     ┆           ┆           ┆   ┆           ┆           ┆           ┆        │\n",
       "│ _4         ┆            ┆           ┆           ┆   ┆           ┆           ┆           ┆        │\n",
       "│ aa2f26130f ┆ aa2f26130f ┆ 1         ┆ 12        ┆ … ┆ 0.198333  ┆ 0.32      ┆ objective ┆ true   │\n",
       "│ 904f8f_fan ┆ 904f8f     ┆           ┆           ┆   ┆           ┆           ┆           ┆        │\n",
       "│ _5         ┆            ┆           ┆           ┆   ┆           ┆           ┆           ┆        │\n",
       "└────────────┴────────────┴───────────┴───────────┴───┴───────────┴───────────┴───────────┴────────┘"
      ]
     },
     "execution_count": 46,
     "metadata": {},
     "output_type": "execute_result"
    }
   ],
   "source": [
    "df_fact_reaction = df_fact_reaction.filter(pl.col(\"fk_team_id\").is_not_null())\n",
    "df_fact_reaction.head()"
   ]
  },
  {
   "cell_type": "code",
   "execution_count": 47,
   "metadata": {},
   "outputs": [
    {
     "data": {
      "text/html": [
       "<div><style>\n",
       ".dataframe > thead > tr,\n",
       ".dataframe > tbody > tr {\n",
       "  text-align: right;\n",
       "  white-space: pre-wrap;\n",
       "}\n",
       "</style>\n",
       "<small>shape: (3, 3)</small><table border=\"1\" class=\"dataframe\"><thead><tr><th>sentiment_label</th><th>sentiment_id</th><th>sentiment_value</th></tr><tr><td>str</td><td>i64</td><td>i64</td></tr></thead><tbody><tr><td>&quot;negative&quot;</td><td>0</td><td>-1</td></tr><tr><td>&quot;neutral&quot;</td><td>1</td><td>0</td></tr><tr><td>&quot;positive&quot;</td><td>3</td><td>1</td></tr></tbody></table></div>"
      ],
      "text/plain": [
       "shape: (3, 3)\n",
       "┌─────────────────┬──────────────┬─────────────────┐\n",
       "│ sentiment_label ┆ sentiment_id ┆ sentiment_value │\n",
       "│ ---             ┆ ---          ┆ ---             │\n",
       "│ str             ┆ i64          ┆ i64             │\n",
       "╞═════════════════╪══════════════╪═════════════════╡\n",
       "│ negative        ┆ 0            ┆ -1              │\n",
       "│ neutral         ┆ 1            ┆ 0               │\n",
       "│ positive        ┆ 3            ┆ 1               │\n",
       "└─────────────────┴──────────────┴─────────────────┘"
      ]
     },
     "execution_count": 47,
     "metadata": {},
     "output_type": "execute_result"
    }
   ],
   "source": [
    "df_sentiment"
   ]
  },
  {
   "cell_type": "markdown",
   "metadata": {},
   "source": [
    "### team bringing the most subjectivity"
   ]
  },
  {
   "cell_type": "code",
   "execution_count": 48,
   "metadata": {},
   "outputs": [
    {
     "data": {
      "text/html": [
       "<div><style>\n",
       ".dataframe > thead > tr,\n",
       ".dataframe > tbody > tr {\n",
       "  text-align: right;\n",
       "  white-space: pre-wrap;\n",
       "}\n",
       "</style>\n",
       "<small>shape: (5, 3)</small><table border=\"1\" class=\"dataframe\"><thead><tr><th>fk_team_id</th><th>subjectivity_mean</th><th>team_name</th></tr><tr><td>i64</td><td>f64</td><td>str</td></tr></thead><tbody><tr><td>1</td><td>0.454066</td><td>&quot;AFC Bournemouth&quot;</td></tr><tr><td>2</td><td>0.430597</td><td>&quot;Arsenal&quot;</td></tr><tr><td>3</td><td>0.450268</td><td>&quot;Aston Villa&quot;</td></tr><tr><td>4</td><td>0.379566</td><td>&quot;Brentford&quot;</td></tr><tr><td>5</td><td>0.441804</td><td>&quot;Brighton &amp; Hove Albion&quot;</td></tr></tbody></table></div>"
      ],
      "text/plain": [
       "shape: (5, 3)\n",
       "┌────────────┬───────────────────┬────────────────────────┐\n",
       "│ fk_team_id ┆ subjectivity_mean ┆ team_name              │\n",
       "│ ---        ┆ ---               ┆ ---                    │\n",
       "│ i64        ┆ f64               ┆ str                    │\n",
       "╞════════════╪═══════════════════╪════════════════════════╡\n",
       "│ 1          ┆ 0.454066          ┆ AFC Bournemouth        │\n",
       "│ 2          ┆ 0.430597          ┆ Arsenal                │\n",
       "│ 3          ┆ 0.450268          ┆ Aston Villa            │\n",
       "│ 4          ┆ 0.379566          ┆ Brentford              │\n",
       "│ 5          ┆ 0.441804          ┆ Brighton & Hove Albion │\n",
       "└────────────┴───────────────────┴────────────────────────┘"
      ]
     },
     "execution_count": 48,
     "metadata": {},
     "output_type": "execute_result"
    }
   ],
   "source": [
    "subjectivity_per_team = df_fact_reaction \\\n",
    "    .group_by(\"fk_team_id\").agg([\n",
    "        pl.col(\"subjectivity_score\").mean().alias(\"subjectivity_mean\")\n",
    "        ]) \\\n",
    "    .join(df_team, left_on=\"fk_team_id\", right_on=\"team_id\", how=\"inner\")\n",
    "\n",
    "subjectivity_per_team.head()"
   ]
  },
  {
   "cell_type": "markdown",
   "metadata": {},
   "source": [
    "### Positive, neutral and negative for each team"
   ]
  },
  {
   "cell_type": "code",
   "execution_count": 49,
   "metadata": {},
   "outputs": [
    {
     "data": {
      "text/html": [
       "<div><style>\n",
       ".dataframe > thead > tr,\n",
       ".dataframe > tbody > tr {\n",
       "  text-align: right;\n",
       "  white-space: pre-wrap;\n",
       "}\n",
       "</style>\n",
       "<small>shape: (5, 8)</small><table border=\"1\" class=\"dataframe\"><thead><tr><th>team_name</th><th>positive</th><th>neutral</th><th>negative</th><th>total_count</th><th>p_positive</th><th>p_neutral</th><th>p_negative</th></tr><tr><td>str</td><td>u32</td><td>u32</td><td>u32</td><td>u32</td><td>f64</td><td>f64</td><td>f64</td></tr></thead><tbody><tr><td>&quot;AFC Bournemouth&quot;</td><td>3</td><td>7</td><td>0</td><td>10</td><td>0.3</td><td>0.7</td><td>0.0</td></tr><tr><td>&quot;Arsenal&quot;</td><td>2</td><td>7</td><td>0</td><td>9</td><td>0.222222</td><td>0.777778</td><td>0.0</td></tr><tr><td>&quot;Aston Villa&quot;</td><td>4</td><td>1</td><td>0</td><td>5</td><td>0.8</td><td>0.2</td><td>0.0</td></tr><tr><td>&quot;Brentford&quot;</td><td>2</td><td>6</td><td>0</td><td>8</td><td>0.25</td><td>0.75</td><td>0.0</td></tr><tr><td>&quot;Brighton &amp; Hove Albion&quot;</td><td>4</td><td>5</td><td>0</td><td>9</td><td>0.444444</td><td>0.555556</td><td>0.0</td></tr></tbody></table></div>"
      ],
      "text/plain": [
       "shape: (5, 8)\n",
       "┌──────────────┬──────────┬─────────┬──────────┬─────────────┬────────────┬───────────┬────────────┐\n",
       "│ team_name    ┆ positive ┆ neutral ┆ negative ┆ total_count ┆ p_positive ┆ p_neutral ┆ p_negative │\n",
       "│ ---          ┆ ---      ┆ ---     ┆ ---      ┆ ---         ┆ ---        ┆ ---       ┆ ---        │\n",
       "│ str          ┆ u32      ┆ u32     ┆ u32      ┆ u32         ┆ f64        ┆ f64       ┆ f64        │\n",
       "╞══════════════╪══════════╪═════════╪══════════╪═════════════╪════════════╪═══════════╪════════════╡\n",
       "│ AFC          ┆ 3        ┆ 7       ┆ 0        ┆ 10          ┆ 0.3        ┆ 0.7       ┆ 0.0        │\n",
       "│ Bournemouth  ┆          ┆         ┆          ┆             ┆            ┆           ┆            │\n",
       "│ Arsenal      ┆ 2        ┆ 7       ┆ 0        ┆ 9           ┆ 0.222222   ┆ 0.777778  ┆ 0.0        │\n",
       "│ Aston Villa  ┆ 4        ┆ 1       ┆ 0        ┆ 5           ┆ 0.8        ┆ 0.2       ┆ 0.0        │\n",
       "│ Brentford    ┆ 2        ┆ 6       ┆ 0        ┆ 8           ┆ 0.25       ┆ 0.75      ┆ 0.0        │\n",
       "│ Brighton &   ┆ 4        ┆ 5       ┆ 0        ┆ 9           ┆ 0.444444   ┆ 0.555556  ┆ 0.0        │\n",
       "│ Hove Albion  ┆          ┆         ┆          ┆             ┆            ┆           ┆            │\n",
       "└──────────────┴──────────┴─────────┴──────────┴─────────────┴────────────┴───────────┴────────────┘"
      ]
     },
     "execution_count": 49,
     "metadata": {},
     "output_type": "execute_result"
    }
   ],
   "source": [
    "#### [team, n_pos, n_neg, n_neu, n, pos_percentage, neg_percentage, neutral_percentage, n_overal_feeling, overal_feeling]\n",
    "\n",
    "result_1 = df_fact_reaction \\\n",
    "    .group_by('fk_team_id', 'fk_sentiment_id').agg([\n",
    "        pl.col(\"reaction_id\").n_unique().alias(\"count_reaction\")\n",
    "        ]) \\\n",
    "    .join(df_sentiment, left_on=\"fk_sentiment_id\", right_on=\"sentiment_id\", how=\"left\") \\\n",
    "    .join(df_team, left_on=\"fk_team_id\", right_on=\"team_id\", how=\"inner\") \\\n",
    "    .drop([\"fk_team_id\", \"fk_sentiment_id\", \"sentiment_value\"])\n",
    "\n",
    "result_1 = result_1 \\\n",
    "    .pivot(\"sentiment_label\", index=\"team_name\", values=\"count_reaction\") \\\n",
    "    .fill_null(0) \\\n",
    "    .sort(\"team_name\") \\\n",
    "    .with_columns() \\\n",
    "    .with_columns((pl.col(\"positive\")+pl.col(\"neutral\")+pl.col(\"negative\")).alias(\"total_count\")) \\\n",
    "    .with_columns(\n",
    "        (pl.col(\"positive\")/pl.col(\"total_count\")).alias(\"p_positive\"),\n",
    "        (pl.col(\"neutral\")/pl.col(\"total_count\")).alias(\"p_neutral\"),\n",
    "        (pl.col(\"negative\")/pl.col(\"total_count\")).alias(\"p_negative\")\n",
    "    )\n",
    "\n",
    "result_1.head()"
   ]
  },
  {
   "cell_type": "markdown",
   "metadata": {},
   "source": [
    "### Sum of positives, negative and neutral"
   ]
  },
  {
   "cell_type": "code",
   "execution_count": 53,
   "metadata": {},
   "outputs": [
    {
     "data": {
      "text/html": [
       "<div><style>\n",
       ".dataframe > thead > tr,\n",
       ".dataframe > tbody > tr {\n",
       "  text-align: right;\n",
       "  white-space: pre-wrap;\n",
       "}\n",
       "</style>\n",
       "<small>shape: (1, 3)</small><table border=\"1\" class=\"dataframe\"><thead><tr><th>total_positive</th><th>total_negative</th><th>total_neutral</th></tr><tr><td>u32</td><td>u32</td><td>u32</td></tr></thead><tbody><tr><td>79</td><td>2</td><td>118</td></tr></tbody></table></div>"
      ],
      "text/plain": [
       "shape: (1, 3)\n",
       "┌────────────────┬────────────────┬───────────────┐\n",
       "│ total_positive ┆ total_negative ┆ total_neutral │\n",
       "│ ---            ┆ ---            ┆ ---           │\n",
       "│ u32            ┆ u32            ┆ u32           │\n",
       "╞════════════════╪════════════════╪═══════════════╡\n",
       "│ 79             ┆ 2              ┆ 118           │\n",
       "└────────────────┴────────────────┴───────────────┘"
      ]
     },
     "execution_count": 53,
     "metadata": {},
     "output_type": "execute_result"
    }
   ],
   "source": [
    "result_2 = result_1 \\\n",
    "    .select(['positive', 'neutral', 'negative']) \\\n",
    "    .select(\n",
    "        pl.sum(\"positive\").alias(\"total_positive\"),\n",
    "        pl.sum(\"negative\").alias(\"total_negative\"),\n",
    "        pl.sum(\"neutral\").alias(\"total_neutral\")\n",
    "    )\n",
    "\n",
    "result_2"
   ]
  },
  {
   "cell_type": "markdown",
   "metadata": {},
   "source": [
    "### sentiment score of each team over the season"
   ]
  },
  {
   "cell_type": "code",
   "execution_count": 116,
   "metadata": {},
   "outputs": [
    {
     "data": {
      "text/html": [
       "<div><style>\n",
       ".dataframe > thead > tr,\n",
       ".dataframe > tbody > tr {\n",
       "  text-align: right;\n",
       "  white-space: pre-wrap;\n",
       "}\n",
       "</style>\n",
       "<small>shape: (5, 2)</small><table border=\"1\" class=\"dataframe\"><thead><tr><th>mean_overal_feeling</th><th>team_name</th></tr><tr><td>f64</td><td>str</td></tr></thead><tbody><tr><td>0.129788</td><td>&quot;AFC Bournemouth&quot;</td></tr><tr><td>0.152835</td><td>&quot;Arsenal&quot;</td></tr><tr><td>0.272458</td><td>&quot;Aston Villa&quot;</td></tr><tr><td>0.146895</td><td>&quot;Brentford&quot;</td></tr><tr><td>0.156211</td><td>&quot;Brighton &amp; Hove Albion&quot;</td></tr></tbody></table></div>"
      ],
      "text/plain": [
       "shape: (5, 2)\n",
       "┌─────────────────────┬────────────────────────┐\n",
       "│ mean_overal_feeling ┆ team_name              │\n",
       "│ ---                 ┆ ---                    │\n",
       "│ f64                 ┆ str                    │\n",
       "╞═════════════════════╪════════════════════════╡\n",
       "│ 0.129788            ┆ AFC Bournemouth        │\n",
       "│ 0.152835            ┆ Arsenal                │\n",
       "│ 0.272458            ┆ Aston Villa            │\n",
       "│ 0.146895            ┆ Brentford              │\n",
       "│ 0.156211            ┆ Brighton & Hove Albion │\n",
       "└─────────────────────┴────────────────────────┘"
      ]
     },
     "execution_count": 116,
     "metadata": {},
     "output_type": "execute_result"
    }
   ],
   "source": [
    "result_2 = df_fact_reaction \\\n",
    "    .group_by(\"fk_team_id\").agg([\n",
    "        pl.col(\"sentiment_score\").mean().alias(\"mean_overal_feeling\")\n",
    "        ]) \\\n",
    "    .join(df_team, left_on=\"fk_team_id\", right_on=\"team_id\", how=\"inner\") \\\n",
    "    .drop([\"fk_team_id\"])\n",
    "\n",
    "result_2.head()"
   ]
  },
  {
   "cell_type": "markdown",
   "metadata": {},
   "source": [
    "### Evolution of sentiment_score through the season"
   ]
  },
  {
   "cell_type": "code",
   "execution_count": 145,
   "metadata": {},
   "outputs": [
    {
     "data": {
      "text/html": [
       "<div><style>\n",
       ".dataframe > thead > tr,\n",
       ".dataframe > tbody > tr {\n",
       "  text-align: right;\n",
       "  white-space: pre-wrap;\n",
       "}\n",
       "</style>\n",
       "<small>shape: (5, 4)</small><table border=\"1\" class=\"dataframe\"><thead><tr><th>fk_date_id</th><th>fk_team_id</th><th>sentiment_score</th><th>Value</th></tr><tr><td>date</td><td>i64</td><td>f64</td><td>f64</td></tr></thead><tbody><tr><td>2024-08-09</td><td>1</td><td>0.0</td><td>0.0</td></tr><tr><td>2024-08-15</td><td>1</td><td>0.385714</td><td>0.385714</td></tr><tr><td>2024-08-27</td><td>1</td><td>-0.004762</td><td>0.380952</td></tr><tr><td>2024-08-31</td><td>1</td><td>0.1</td><td>0.480952</td></tr><tr><td>2024-09-11</td><td>1</td><td>0.204937</td><td>0.68589</td></tr></tbody></table></div>"
      ],
      "text/plain": [
       "shape: (5, 4)\n",
       "┌────────────┬────────────┬─────────────────┬──────────┐\n",
       "│ fk_date_id ┆ fk_team_id ┆ sentiment_score ┆ Value    │\n",
       "│ ---        ┆ ---        ┆ ---             ┆ ---      │\n",
       "│ date       ┆ i64        ┆ f64             ┆ f64      │\n",
       "╞════════════╪════════════╪═════════════════╪══════════╡\n",
       "│ 2024-08-09 ┆ 1          ┆ 0.0             ┆ 0.0      │\n",
       "│ 2024-08-15 ┆ 1          ┆ 0.385714        ┆ 0.385714 │\n",
       "│ 2024-08-27 ┆ 1          ┆ -0.004762       ┆ 0.380952 │\n",
       "│ 2024-08-31 ┆ 1          ┆ 0.1             ┆ 0.480952 │\n",
       "│ 2024-09-11 ┆ 1          ┆ 0.204937        ┆ 0.68589  │\n",
       "└────────────┴────────────┴─────────────────┴──────────┘"
      ]
     },
     "execution_count": 145,
     "metadata": {},
     "output_type": "execute_result"
    }
   ],
   "source": [
    "result_1 = df_fact_reaction \\\n",
    "    .group_by([\"fk_team_id\", \"fk_date_id\"]) \\\n",
    "    .agg([\n",
    "        pl.col(\"sentiment_score\").sum().alias(\"sentiment_score\")\n",
    "    ]) \\\n",
    "    .sort([\"fk_team_id\", \"fk_date_id\"])\n",
    "\n",
    "result_2 = result_1.select(\n",
    "    pl.col(\"fk_date_id\", \"fk_team_id\"),\n",
    "    pl.col(\"sentiment_score\"),\n",
    "    pl.cum_sum(\"sentiment_score\").over(\"fk_team_id\").alias(\"Value\"),\n",
    ")\n",
    "\n",
    "result_2.head()\n"
   ]
  },
  {
   "cell_type": "markdown",
   "metadata": {},
   "source": [
    "#### filters"
   ]
  },
  {
   "cell_type": "code",
   "execution_count": 151,
   "metadata": {},
   "outputs": [],
   "source": [
    "teams_name_list = df_team['team_name']"
   ]
  },
  {
   "cell_type": "code",
   "execution_count": 152,
   "metadata": {},
   "outputs": [],
   "source": [
    "sentiments_list = df_sentiment['sentiment_label']"
   ]
  },
  {
   "cell_type": "code",
   "execution_count": null,
   "metadata": {},
   "outputs": [],
   "source": []
  },
  {
   "cell_type": "code",
   "execution_count": null,
   "metadata": {},
   "outputs": [],
   "source": []
  }
 ],
 "metadata": {
  "kernelspec": {
   "display_name": ".venv",
   "language": "python",
   "name": "python3"
  },
  "language_info": {
   "codemirror_mode": {
    "name": "ipython",
    "version": 3
   },
   "file_extension": ".py",
   "mimetype": "text/x-python",
   "name": "python",
   "nbconvert_exporter": "python",
   "pygments_lexer": "ipython3",
   "version": "3.12.9"
  }
 },
 "nbformat": 4,
 "nbformat_minor": 2
}
