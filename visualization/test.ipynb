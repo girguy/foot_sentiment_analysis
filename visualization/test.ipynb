{
 "cells": [
  {
   "cell_type": "code",
   "execution_count": 5,
   "metadata": {},
   "outputs": [],
   "source": [
    "import sys\n",
    "import os\n",
    "import polars as pl\n",
    "\n",
    "# Add project root to sys.path\n",
    "sys.path.append(os.path.abspath(os.path.join(os.path.abspath(''), '..')))\n",
    "\n",
    "from AzureBlobLoader import AzureBlobLoader\n",
    "from utils.config import CONFIG, CONN_STRING_AZURE_STORAGE\n",
    "\n",
    "def load_data():\n",
    "    try:\n",
    "        loader = AzureBlobLoader(CONFIG, CONN_STRING_AZURE_STORAGE)\n",
    "        dataframes = loader.load_dataframes()\n",
    "        print(\"Data loaded successfully!\")\n",
    "        return dataframes\n",
    "    except Exception as e:\n",
    "        print(f\"Error loading data: {e}\", exc_info=True)"
   ]
  },
  {
   "cell_type": "code",
   "execution_count": 6,
   "metadata": {},
   "outputs": [
    {
     "name": "stdout",
     "output_type": "stream",
     "text": [
      "Successfully read blob from gold/epl_news/dim_date.parquet\n",
      "Successfully read blob from gold/epl_news/article.parquet\n",
      "Successfully read blob from gold/epl_news/dim_team.parquet\n",
      "Successfully read blob from gold/epl_news/reaction.parquet\n",
      "Successfully read blob from gold/epl_news/dim_sentiment.parquet\n",
      "Successfully read blob from gold/epl_news/fact_reaction.parquet\n",
      "Successfully read blob from gold/epl_news/fact_title.parquet\n",
      "Data loaded successfully!\n"
     ]
    }
   ],
   "source": [
    "dataframes = load_data()"
   ]
  },
  {
   "cell_type": "code",
   "execution_count": 25,
   "metadata": {},
   "outputs": [
    {
     "name": "stdout",
     "output_type": "stream",
     "text": [
      "(198, 4)\n",
      "(191, 4)\n",
      "(191, 4)\n"
     ]
    },
    {
     "data": {
      "text/html": [
       "<div><style>\n",
       ".dataframe > thead > tr,\n",
       ".dataframe > tbody > tr {\n",
       "  text-align: right;\n",
       "  white-space: pre-wrap;\n",
       "}\n",
       "</style>\n",
       "<small>shape: (5, 4)</small><table border=\"1\" class=\"dataframe\"><thead><tr><th>article_id</th><th>fk_team_id</th><th>article_title</th><th>published_at</th></tr><tr><td>str</td><td>i64</td><td>str</td><td>date</td></tr></thead><tbody><tr><td>&quot;9000289e879afec1&quot;</td><td>5</td><td>&quot;Brighton&#x27;s extreme approach un…</td><td>2024-09-28</td></tr><tr><td>&quot;2ddc5c0fc6b1f57e&quot;</td><td>6</td><td>&quot;&#x27;The going has got tough - wil…</td><td>2024-10-08</td></tr><tr><td>&quot;07b82732a0852ce7&quot;</td><td>19</td><td>&quot;Today&#x27;s trivia challenge&quot;</td><td>2024-08-16</td></tr><tr><td>&quot;4c464c176e47df86&quot;</td><td>4</td><td>&quot;Tottenham 3-1 Brentford: Bees …</td><td>2024-09-21</td></tr><tr><td>&quot;2f6e34717e3d6518&quot;</td><td>20</td><td>&quot;Too soon to worry about Wolves…</td><td>2024-09-15</td></tr></tbody></table></div>"
      ],
      "text/plain": [
       "shape: (5, 4)\n",
       "┌──────────────────┬────────────┬─────────────────────────────────┬──────────────┐\n",
       "│ article_id       ┆ fk_team_id ┆ article_title                   ┆ published_at │\n",
       "│ ---              ┆ ---        ┆ ---                             ┆ ---          │\n",
       "│ str              ┆ i64        ┆ str                             ┆ date         │\n",
       "╞══════════════════╪════════════╪═════════════════════════════════╪══════════════╡\n",
       "│ 9000289e879afec1 ┆ 5          ┆ Brighton's extreme approach un… ┆ 2024-09-28   │\n",
       "│ 2ddc5c0fc6b1f57e ┆ 6          ┆ 'The going has got tough - wil… ┆ 2024-10-08   │\n",
       "│ 07b82732a0852ce7 ┆ 19         ┆ Today's trivia challenge        ┆ 2024-08-16   │\n",
       "│ 4c464c176e47df86 ┆ 4          ┆ Tottenham 3-1 Brentford: Bees … ┆ 2024-09-21   │\n",
       "│ 2f6e34717e3d6518 ┆ 20         ┆ Too soon to worry about Wolves… ┆ 2024-09-15   │\n",
       "└──────────────────┴────────────┴─────────────────────────────────┴──────────────┘"
      ]
     },
     "execution_count": 25,
     "metadata": {},
     "output_type": "execute_result"
    }
   ],
   "source": [
    "df_article = dataframes['df_article']\n",
    "print(df_article.shape)\n",
    "df_article = df_article.filter(pl.col(\"article_id\").is_not_null())\n",
    "print(df_article.shape)\n",
    "df_article = df_article.unique()\n",
    "print(df_article.shape)\n",
    "df_article.head()"
   ]
  },
  {
   "cell_type": "code",
   "execution_count": 19,
   "metadata": {},
   "outputs": [
    {
     "data": {
      "text/html": [
       "<div><style>\n",
       ".dataframe > thead > tr,\n",
       ".dataframe > tbody > tr {\n",
       "  text-align: right;\n",
       "  white-space: pre-wrap;\n",
       "}\n",
       "</style>\n",
       "<small>shape: (7, 4)</small><table border=\"1\" class=\"dataframe\"><thead><tr><th>article_id</th><th>fk_team_id</th><th>article_title</th><th>published_at</th></tr><tr><td>str</td><td>i64</td><td>str</td><td>date</td></tr></thead><tbody><tr><td>null</td><td>16</td><td>&quot;No title found&quot;</td><td>null</td></tr><tr><td>null</td><td>16</td><td>&quot;No title found&quot;</td><td>null</td></tr><tr><td>null</td><td>16</td><td>&quot;No title found&quot;</td><td>null</td></tr><tr><td>null</td><td>16</td><td>&quot;No title found&quot;</td><td>null</td></tr><tr><td>null</td><td>16</td><td>&quot;No title found&quot;</td><td>null</td></tr><tr><td>null</td><td>16</td><td>&quot;No title found&quot;</td><td>null</td></tr><tr><td>null</td><td>1</td><td>&quot;No title found&quot;</td><td>null</td></tr></tbody></table></div>"
      ],
      "text/plain": [
       "shape: (7, 4)\n",
       "┌────────────┬────────────┬────────────────┬──────────────┐\n",
       "│ article_id ┆ fk_team_id ┆ article_title  ┆ published_at │\n",
       "│ ---        ┆ ---        ┆ ---            ┆ ---          │\n",
       "│ str        ┆ i64        ┆ str            ┆ date         │\n",
       "╞════════════╪════════════╪════════════════╪══════════════╡\n",
       "│ null       ┆ 16         ┆ No title found ┆ null         │\n",
       "│ null       ┆ 16         ┆ No title found ┆ null         │\n",
       "│ null       ┆ 16         ┆ No title found ┆ null         │\n",
       "│ null       ┆ 16         ┆ No title found ┆ null         │\n",
       "│ null       ┆ 16         ┆ No title found ┆ null         │\n",
       "│ null       ┆ 16         ┆ No title found ┆ null         │\n",
       "│ null       ┆ 1          ┆ No title found ┆ null         │\n",
       "└────────────┴────────────┴────────────────┴──────────────┘"
      ]
     },
     "execution_count": 19,
     "metadata": {},
     "output_type": "execute_result"
    }
   ],
   "source": [
    "df_article.filter(pl.col(\"article_id\").is_null())"
   ]
  },
  {
   "cell_type": "code",
   "execution_count": 38,
   "metadata": {},
   "outputs": [
    {
     "data": {
      "text/html": [
       "<div><style>\n",
       ".dataframe > thead > tr,\n",
       ".dataframe > tbody > tr {\n",
       "  text-align: right;\n",
       "  white-space: pre-wrap;\n",
       "}\n",
       "</style>\n",
       "<small>shape: (5, 2)</small><table border=\"1\" class=\"dataframe\"><thead><tr><th>team_id</th><th>team_name</th></tr><tr><td>i64</td><td>str</td></tr></thead><tbody><tr><td>1</td><td>&quot;AFC Bournemouth&quot;</td></tr><tr><td>2</td><td>&quot;Arsenal&quot;</td></tr><tr><td>3</td><td>&quot;Aston Villa&quot;</td></tr><tr><td>4</td><td>&quot;Brentford&quot;</td></tr><tr><td>5</td><td>&quot;Brighton &amp; Hove Albion&quot;</td></tr></tbody></table></div>"
      ],
      "text/plain": [
       "shape: (5, 2)\n",
       "┌─────────┬────────────────────────┐\n",
       "│ team_id ┆ team_name              │\n",
       "│ ---     ┆ ---                    │\n",
       "│ i64     ┆ str                    │\n",
       "╞═════════╪════════════════════════╡\n",
       "│ 1       ┆ AFC Bournemouth        │\n",
       "│ 2       ┆ Arsenal                │\n",
       "│ 3       ┆ Aston Villa            │\n",
       "│ 4       ┆ Brentford              │\n",
       "│ 5       ┆ Brighton & Hove Albion │\n",
       "└─────────┴────────────────────────┘"
      ]
     },
     "execution_count": 38,
     "metadata": {},
     "output_type": "execute_result"
    }
   ],
   "source": [
    "df_team = dataframes['df_team']\n",
    "df_team.head()"
   ]
  },
  {
   "cell_type": "code",
   "execution_count": 41,
   "metadata": {},
   "outputs": [
    {
     "data": {
      "text/html": [
       "<div><style>\n",
       ".dataframe > thead > tr,\n",
       ".dataframe > tbody > tr {\n",
       "  text-align: right;\n",
       "  white-space: pre-wrap;\n",
       "}\n",
       "</style>\n",
       "<small>shape: (20, 2)</small><table border=\"1\" class=\"dataframe\"><thead><tr><th>Count</th><th>team_name</th></tr><tr><td>u32</td><td>str</td></tr></thead><tbody><tr><td>5</td><td>&quot;Aston Villa&quot;</td></tr><tr><td>6</td><td>&quot;Crystal Palace&quot;</td></tr><tr><td>7</td><td>&quot;Tottenham Hotspur&quot;</td></tr><tr><td>7</td><td>&quot;Leicester City&quot;</td></tr><tr><td>8</td><td>&quot;Fulham&quot;</td></tr><tr><td>&hellip;</td><td>&hellip;</td></tr><tr><td>11</td><td>&quot;Newcastle United&quot;</td></tr><tr><td>12</td><td>&quot;AFC Bournemouth&quot;</td></tr><tr><td>12</td><td>&quot;Chelsea&quot;</td></tr><tr><td>13</td><td>&quot;Manchester United&quot;</td></tr><tr><td>14</td><td>&quot;Liverpool&quot;</td></tr></tbody></table></div>"
      ],
      "text/plain": [
       "shape: (20, 2)\n",
       "┌───────┬───────────────────┐\n",
       "│ Count ┆ team_name         │\n",
       "│ ---   ┆ ---               │\n",
       "│ u32   ┆ str               │\n",
       "╞═══════╪═══════════════════╡\n",
       "│ 5     ┆ Aston Villa       │\n",
       "│ 6     ┆ Crystal Palace    │\n",
       "│ 7     ┆ Tottenham Hotspur │\n",
       "│ 7     ┆ Leicester City    │\n",
       "│ 8     ┆ Fulham            │\n",
       "│ …     ┆ …                 │\n",
       "│ 11    ┆ Newcastle United  │\n",
       "│ 12    ┆ AFC Bournemouth   │\n",
       "│ 12    ┆ Chelsea           │\n",
       "│ 13    ┆ Manchester United │\n",
       "│ 14    ┆ Liverpool         │\n",
       "└───────┴───────────────────┘"
      ]
     },
     "execution_count": 41,
     "metadata": {},
     "output_type": "execute_result"
    }
   ],
   "source": [
    "df_nb_articles = df_article \\\n",
    "    .select([\"fk_team_id\", \"article_id\"]) \\\n",
    "    .group_by(\"fk_team_id\") \\\n",
    "    .n_unique() \\\n",
    "    .rename({\"article_id\": \"Count\"}) \\\n",
    "    .join(df_team, left_on=\"fk_team_id\", right_on=\"team_id\", how=\"left\") \\\n",
    "    .drop(\"fk_team_id\") \\\n",
    "    .sort(\"Count\")\n",
    "\n",
    "df_nb_articles"
   ]
  }
 ],
 "metadata": {
  "kernelspec": {
   "display_name": ".venv",
   "language": "python",
   "name": "python3"
  },
  "language_info": {
   "codemirror_mode": {
    "name": "ipython",
    "version": 3
   },
   "file_extension": ".py",
   "mimetype": "text/x-python",
   "name": "python",
   "nbconvert_exporter": "python",
   "pygments_lexer": "ipython3",
   "version": "3.12.3"
  }
 },
 "nbformat": 4,
 "nbformat_minor": 2
}
