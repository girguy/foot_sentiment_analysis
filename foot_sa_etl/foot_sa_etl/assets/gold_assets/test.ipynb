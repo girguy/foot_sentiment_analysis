{
 "cells": [
  {
   "cell_type": "code",
   "execution_count": 13,
   "metadata": {},
   "outputs": [],
   "source": [
    "# Standard library imports\n",
    "import os\n",
    "import sys\n",
    "import json\n",
    "from pattern.en import sentiment\n",
    "from datetime import datetime\n",
    "import hashlib\n",
    "\n",
    "\n",
    "# Third-party library imports\n",
    "from bs4 import BeautifulSoup\n",
    "from dotenv import load_dotenv\n",
    "import polars as pl\n",
    "\n",
    "# Add project root to sys.path\n",
    "sys.path.append(os.path.abspath(os.path.join(os.path.abspath(''), '../..')))\n",
    "\n",
    "# Local project utility imports\n",
    "from utils.azure_blob_utils import (\n",
    "    create_blob_client_with_connection_string, \n",
    "    read_blob_from_container,\n",
    "    read_all_parquets_from_container\n",
    ")\n",
    "\n",
    "# load assets bronze_scrappe_epl_news\n",
    "# in order to be used as dependency\n",
    "from assets.bronze_assets.scrappe_epl_news import scrappe_epl_news\n",
    "\n",
    "\n",
    "load_dotenv()\n",
    "\n",
    "# Get path of the config file\n",
    "scrapper_config_path = os.path.join(sys.path[-1], 'scrapper_config.json')"
   ]
  },
  {
   "cell_type": "code",
   "execution_count": 14,
   "metadata": {},
   "outputs": [],
   "source": [
    "# Load the JSON file\n",
    "with open(scrapper_config_path, 'r') as file:\n",
    "    scrapper_config = json.load(file)\n",
    "\n",
    "# Load environment variables\n",
    "connection_string = os.environ.get(\"CONN_STRING_AZURE_STORAGE\")\n",
    "if connection_string is None:\n",
    "    raise EnvironmentError(\"Azure storage connection string not found in environment variables.\")\n",
    "\n",
    "# Create a blob client for Azure Blob Storage\n",
    "blob_service_client = create_blob_client_with_connection_string(connection_string)\n",
    "# List all blobs in the container"
   ]
  },
  {
   "cell_type": "code",
   "execution_count": 15,
   "metadata": {},
   "outputs": [],
   "source": [
    "folder_name = scrapper_config['folder_name']"
   ]
  },
  {
   "cell_type": "markdown",
   "metadata": {},
   "source": [
    "### BRONZE"
   ]
  },
  {
   "cell_type": "code",
   "execution_count": 16,
   "metadata": {},
   "outputs": [
    {
     "name": "stdout",
     "output_type": "stream",
     "text": [
      "Successfully read parquet file from bronze/epl_news/epl_news_2024_10_14.parquet\n"
     ]
    },
    {
     "data": {
      "text/html": [
       "<div><style>\n",
       ".dataframe > thead > tr,\n",
       ".dataframe > tbody > tr {\n",
       "  text-align: right;\n",
       "  white-space: pre-wrap;\n",
       "}\n",
       "</style>\n",
       "<small>shape: (5, 5)</small><table border=\"1\" class=\"dataframe\"><thead><tr><th>_hashedId</th><th>_extractedDate</th><th>teamName</th><th>page</th><th>html</th></tr><tr><td>str</td><td>datetime[μs]</td><td>str</td><td>i8</td><td>str</td></tr></thead><tbody><tr><td>&quot;9d4702a75dda24a4457b469e9e2577…</td><td>2024-10-14 20:50:02</td><td>&quot;AFC Bournemouth&quot;</td><td>1</td><td>&quot;&lt;!DOCTYPE html&gt;&lt;html lang=&quot;en-…</td></tr><tr><td>&quot;63cd46598c3f0164ccc77b4ba38090…</td><td>2024-10-14 20:50:02</td><td>&quot;AFC Bournemouth&quot;</td><td>2</td><td>&quot;&lt;!DOCTYPE html&gt;&lt;html lang=&quot;en-…</td></tr><tr><td>&quot;4b44c64ebb2c9e14de13eb15292330…</td><td>2024-10-14 20:50:02</td><td>&quot;Arsenal&quot;</td><td>1</td><td>&quot;&lt;!DOCTYPE html&gt;&lt;html lang=&quot;en-…</td></tr><tr><td>&quot;18bdeafc8ca33ccfa530d07470a354…</td><td>2024-10-14 20:50:02</td><td>&quot;Arsenal&quot;</td><td>2</td><td>&quot;&lt;!DOCTYPE html&gt;&lt;html lang=&quot;en-…</td></tr><tr><td>&quot;3cef8d9424daf9ff6a38c1c2a325d7…</td><td>2024-10-14 20:50:02</td><td>&quot;Aston Villa&quot;</td><td>1</td><td>&quot;&lt;!DOCTYPE html&gt;&lt;html lang=&quot;en-…</td></tr></tbody></table></div>"
      ],
      "text/plain": [
       "shape: (5, 5)\n",
       "┌────────────────────────────┬─────────────────────┬─────────────────┬──────┬──────────────────────┐\n",
       "│ _hashedId                  ┆ _extractedDate      ┆ teamName        ┆ page ┆ html                 │\n",
       "│ ---                        ┆ ---                 ┆ ---             ┆ ---  ┆ ---                  │\n",
       "│ str                        ┆ datetime[μs]        ┆ str             ┆ i8   ┆ str                  │\n",
       "╞════════════════════════════╪═════════════════════╪═════════════════╪══════╪══════════════════════╡\n",
       "│ 9d4702a75dda24a4457b469e9e ┆ 2024-10-14 20:50:02 ┆ AFC Bournemouth ┆ 1    ┆ <!DOCTYPE html><html │\n",
       "│ 2577…                      ┆                     ┆                 ┆      ┆ lang=\"en-…           │\n",
       "│ 63cd46598c3f0164ccc77b4ba3 ┆ 2024-10-14 20:50:02 ┆ AFC Bournemouth ┆ 2    ┆ <!DOCTYPE html><html │\n",
       "│ 8090…                      ┆                     ┆                 ┆      ┆ lang=\"en-…           │\n",
       "│ 4b44c64ebb2c9e14de13eb1529 ┆ 2024-10-14 20:50:02 ┆ Arsenal         ┆ 1    ┆ <!DOCTYPE html><html │\n",
       "│ 2330…                      ┆                     ┆                 ┆      ┆ lang=\"en-…           │\n",
       "│ 18bdeafc8ca33ccfa530d07470 ┆ 2024-10-14 20:50:02 ┆ Arsenal         ┆ 2    ┆ <!DOCTYPE html><html │\n",
       "│ a354…                      ┆                     ┆                 ┆      ┆ lang=\"en-…           │\n",
       "│ 3cef8d9424daf9ff6a38c1c2a3 ┆ 2024-10-14 20:50:02 ┆ Aston Villa     ┆ 1    ┆ <!DOCTYPE html><html │\n",
       "│ 25d7…                      ┆                     ┆                 ┆      ┆ lang=\"en-…           │\n",
       "└────────────────────────────┴─────────────────────┴─────────────────┴──────┴──────────────────────┘"
      ]
     },
     "execution_count": 16,
     "metadata": {},
     "output_type": "execute_result"
    }
   ],
   "source": [
    "bronze_container_name = scrapper_config['bronze_container_name']\n",
    "\n",
    "df_epl_news = read_all_parquets_from_container(bronze_container_name, folder_name, blob_service_client)\n",
    "df_epl_news.head()"
   ]
  },
  {
   "cell_type": "markdown",
   "metadata": {},
   "source": [
    "### SILVER"
   ]
  },
  {
   "cell_type": "code",
   "execution_count": 17,
   "metadata": {},
   "outputs": [
    {
     "name": "stdout",
     "output_type": "stream",
     "text": [
      "Successfully read blob from silver/epl_news/processed_data.parquet\n"
     ]
    },
    {
     "data": {
      "text/html": [
       "<div><style>\n",
       ".dataframe > thead > tr,\n",
       ".dataframe > tbody > tr {\n",
       "  text-align: right;\n",
       "  white-space: pre-wrap;\n",
       "}\n",
       "</style>\n",
       "<small>shape: (5, 5)</small><table border=\"1\" class=\"dataframe\"><thead><tr><th>teamName</th><th>publishedDate</th><th>title</th><th>content</th><th>id</th></tr><tr><td>str</td><td>date</td><td>str</td><td>str</td><td>str</td></tr></thead><tbody><tr><td>&quot;Everton&quot;</td><td>2024-10-01</td><td>&quot;McNeil &#x27;only deals in goal-of-…</td><td>&quot;Ten minutes in and the overwhe…</td><td>&quot;f7d04530e69d8f68&quot;</td></tr><tr><td>&quot;Nottingham Forest&quot;</td><td>2024-10-06</td><td>&quot;Are Forest the most advanced d…</td><td>&quot;Nottingham Forest have taken a…</td><td>&quot;cdd2fbfbceedcd95&quot;</td></tr><tr><td>&quot;Liverpool&quot;</td><td>2024-10-10</td><td>&quot;Can managers openly admit ment…</td><td>&quot;This video can not be played  …</td><td>&quot;c78b9e565ad3a1ad&quot;</td></tr><tr><td>&quot;Brentford&quot;</td><td>2024-10-01</td><td>&quot;Fast starts... thin bench&quot;</td><td>&quot;Don&#x27;t say I didn&#x27;t warn you! I…</td><td>&quot;d62c96c9f56a4946&quot;</td></tr><tr><td>&quot;Aston Villa&quot;</td><td>2024-10-03</td><td>&quot;&#x27;The atmosphere was something …</td><td>&quot;Former Aston Villa midfielder …</td><td>&quot;2915c60e807fad38&quot;</td></tr></tbody></table></div>"
      ],
      "text/plain": [
       "shape: (5, 5)\n",
       "┌───────────────────┬───────────────┬─────────────────────┬─────────────────────┬──────────────────┐\n",
       "│ teamName          ┆ publishedDate ┆ title               ┆ content             ┆ id               │\n",
       "│ ---               ┆ ---           ┆ ---                 ┆ ---                 ┆ ---              │\n",
       "│ str               ┆ date          ┆ str                 ┆ str                 ┆ str              │\n",
       "╞═══════════════════╪═══════════════╪═════════════════════╪═════════════════════╪══════════════════╡\n",
       "│ Everton           ┆ 2024-10-01    ┆ McNeil 'only deals  ┆ Ten minutes in and  ┆ f7d04530e69d8f68 │\n",
       "│                   ┆               ┆ in goal-of-…        ┆ the overwhe…        ┆                  │\n",
       "│ Nottingham Forest ┆ 2024-10-06    ┆ Are Forest the most ┆ Nottingham Forest   ┆ cdd2fbfbceedcd95 │\n",
       "│                   ┆               ┆ advanced d…         ┆ have taken a…       ┆                  │\n",
       "│ Liverpool         ┆ 2024-10-10    ┆ Can managers openly ┆ This video can not  ┆ c78b9e565ad3a1ad │\n",
       "│                   ┆               ┆ admit ment…         ┆ be played  …        ┆                  │\n",
       "│ Brentford         ┆ 2024-10-01    ┆ Fast starts... thin ┆ Don't say I didn't  ┆ d62c96c9f56a4946 │\n",
       "│                   ┆               ┆ bench               ┆ warn you! I…        ┆                  │\n",
       "│ Aston Villa       ┆ 2024-10-03    ┆ 'The atmosphere was ┆ Former Aston Villa  ┆ 2915c60e807fad38 │\n",
       "│                   ┆               ┆ something …         ┆ midfielder …        ┆                  │\n",
       "└───────────────────┴───────────────┴─────────────────────┴─────────────────────┴──────────────────┘"
      ]
     },
     "execution_count": 17,
     "metadata": {},
     "output_type": "execute_result"
    }
   ],
   "source": [
    "silver_container_name = scrapper_config['silver_container_name']\n",
    "\n",
    "df_epl_news = read_blob_from_container(silver_container_name, f\"{folder_name}/processed_data.parquet\", blob_service_client)\n",
    "df_epl_news.head()"
   ]
  },
  {
   "cell_type": "markdown",
   "metadata": {},
   "source": [
    "### GOLD"
   ]
  },
  {
   "cell_type": "code",
   "execution_count": 18,
   "metadata": {},
   "outputs": [
    {
     "name": "stdout",
     "output_type": "stream",
     "text": [
      "Successfully read blob from gold/epl_news/dim_date.parquet\n",
      "Successfully read blob from gold/epl_news/dim_article.parquet\n",
      "Successfully read blob from gold/epl_news/dim_team.parquet\n",
      "Successfully read blob from gold/epl_news/reaction.parquet\n",
      "Successfully read blob from gold/epl_news/dim_sentiment.parquet\n",
      "Successfully read blob from gold/epl_news/dim_type.parquet\n",
      "Successfully read blob from gold/epl_news/fact_reaction.parquet\n"
     ]
    }
   ],
   "source": [
    "gold_container_name = scrapper_config['gold_container_name']\n",
    "folder_name = scrapper_config['folder_name']\n",
    "\n",
    "df_date = read_blob_from_container(gold_container_name, f\"{folder_name}/dim_date.parquet\", blob_service_client)\n",
    "df_article = read_blob_from_container(gold_container_name, f\"{folder_name}/article.parquet\", blob_service_client)\n",
    "df_team = read_blob_from_container(gold_container_name, f\"{folder_name}/dim_team.parquet\", blob_service_client)\n",
    "df_reaction = read_blob_from_container(gold_container_name, f\"{folder_name}/reaction.parquet\", blob_service_client)\n",
    "df_sentiment = read_blob_from_container(gold_container_name, f\"{folder_name}/dim_sentiment.parquet\", blob_service_client)\n",
    "df_type = read_blob_from_container(gold_container_name, f\"{folder_name}/dim_type.parquet\", blob_service_client)\n",
    "df_fact_reaction = read_blob_from_container(gold_container_name, f\"{folder_name}/fact_reaction.parquet\", blob_service_client)\n"
   ]
  },
  {
   "cell_type": "code",
   "execution_count": 19,
   "metadata": {},
   "outputs": [],
   "source": [
    "def get_sentiment(polarity: float, threshold: float) -> str:\n",
    "    \"\"\"\n",
    "    Determines the sentiment based on the polarity value and a threshold.\n",
    "    \n",
    "    :param polarity: The polarity score, a float in the range [-1, 1].\n",
    "    :param threshold: A threshold value for distinguishing between neutral and other sentiments.\n",
    "    :return: A string representing the sentiment ('negative', 'positive', or 'neutral').\n",
    "    \"\"\"\n",
    "\n",
    "    # Check if the polarity is in the negative range: [-1, 0 - threshold[\n",
    "    if (polarity >= -1) and (polarity < (0 - threshold)):\n",
    "        return 'negative'\n",
    "    \n",
    "    # Check if the polarity is in the positive range: [0 + threshold, 1]\n",
    "    elif (polarity <= 1) and (polarity > (0 + threshold)):\n",
    "        return 'positive'\n",
    "    \n",
    "    # If the polarity is in the neutral range: [-threshold, threshold[\n",
    "    else:\n",
    "        return 'neutral'\n",
    "\n",
    "def is_subjectivity(subjectivity: float) -> str:\n",
    "    \"\"\"\n",
    "    Determines whether the given subjectivity score corresponds to a subjective or objective sentiment.\n",
    "    \n",
    "    :param subjectivity: The subjectivity score, a float in the range [0, 1].\n",
    "    :return: A string representing whether the sentiment is 'subjective' or 'objective'.\n",
    "    \"\"\"\n",
    "\n",
    "    # If the subjectivity score is in the range [0.5, 1], the sentiment is subjective\n",
    "    if (subjectivity >= 0.5) and (subjectivity <= 1):\n",
    "        return 'subjective'\n",
    "    \n",
    "    # If the subjectivity score is in the range [0, 0.5[, the sentiment is objective\n",
    "    else:\n",
    "        return 'objective'\n",
    "\n",
    "def extract_sentiment(reaction_id: str, content: str, threshold_polarity: float) -> tuple:\n",
    "    \"\"\"\n",
    "    Extracts sentiment and subjectivity from the content and returns detailed sentiment analysis.\n",
    "    \n",
    "    :param reaction_id: The unique identifier for the reaction.\n",
    "    :param content: The content or text from which sentiment and subjectivity are to be extracted.\n",
    "    :param threshold_polarity: The threshold used to classify sentiment as neutral.\n",
    "    :return: A tuple containing the following:\n",
    "        - reaction_id (str): The ID of the reaction.\n",
    "        - polarity_value (float): The raw polarity score, a float in the range [-1, 1].\n",
    "        - polarity (str): The classified sentiment ('negative', 'positive', or 'neutral').\n",
    "        - subjectivity_value (float): The raw subjectivity score, a float in the range [0, 1].\n",
    "        - subjectivity (str): The classified subjectivity ('subjective' or 'objective').\n",
    "    \"\"\"\n",
    "    \n",
    "    # Extract the sentiment analysis results from the content (polarity and subjectivity)\n",
    "    res = sentiment(content)\n",
    "    polarity_value = res[0]  # Polarity value is in the range [-1, 1]\n",
    "    subjectivity_value = res[1]  # Subjectivity value is in the range [0, 1]\n",
    "\n",
    "    # Classify the polarity based on the polarity value and threshold\n",
    "    polarity = get_sentiment(polarity_value, threshold_polarity)\n",
    "\n",
    "    # Classify the subjectivity based on the subjectivity score\n",
    "    subjectivity = is_subjectivity(subjectivity_value)\n",
    "\n",
    "    # Return a tuple with the reaction_id and the sentiment analysis details\n",
    "    return (reaction_id, polarity_value, polarity, subjectivity_value, subjectivity)\n",
    "\n",
    "\n",
    "def create_fact_reaction(df_reaction: pl.DataFrame, threshold: float) -> pl.DataFrame:\n",
    "    \"\"\"\n",
    "    Applies sentiment extraction to the reactions in the DataFrame and returns a new Polars DataFrame\n",
    "    containing the sentiment analysis for each reaction.\n",
    "\n",
    "    :param df_reaction: A Polars DataFrame containing reaction data with columns 'reaction_id' and 'content'.\n",
    "    :param threshold: A threshold value to classify neutral sentiment.\n",
    "    :return: A new Polars DataFrame with sentiment analysis for each reaction.\n",
    "    \"\"\"\n",
    "\n",
    "    # Initialize an empty list to store the sentiment updates\n",
    "    sentiment_update_list = []\n",
    "\n",
    "    # Loop through each row in the df_reaction DataFrame\n",
    "    for row in df_reaction.iter_rows(named=True):\n",
    "        # Extract sentiment for each reaction and append the result to the list\n",
    "        sentiment_update_list.append(\n",
    "            extract_sentiment(row['reaction_id'], row['content'], threshold)\n",
    "        )\n",
    "\n",
    "    # Convert the sentiment_update_list into a Polars DataFrame\n",
    "    sentiment_df = pl.DataFrame(\n",
    "        sentiment_update_list, \n",
    "        schema=[\"reaction_id\", \"sentiment_score\", \"sentiment_label\", \"subjectivity_score\", \"is_subjective\"],\n",
    "        orient=\"row\"\n",
    "    )\n",
    "\n",
    "    # Return the new Polars DataFrame containing sentiment analysis\n",
    "    return sentiment_df"
   ]
  },
  {
   "cell_type": "code",
   "execution_count": 31,
   "metadata": {},
   "outputs": [],
   "source": [
    "df_article = df_article.with_columns(\n",
    "    fk_title_id = pl.concat_str(\n",
    "        [\n",
    "            pl.col('article_id'),\n",
    "            pl.lit('title')\n",
    "        ],\n",
    "        separator='_'\n",
    "    )\n",
    ")"
   ]
  },
  {
   "cell_type": "code",
   "execution_count": 32,
   "metadata": {},
   "outputs": [
    {
     "data": {
      "text/html": [
       "<div><style>\n",
       ".dataframe > thead > tr,\n",
       ".dataframe > tbody > tr {\n",
       "  text-align: right;\n",
       "  white-space: pre-wrap;\n",
       "}\n",
       "</style>\n",
       "<small>shape: (29, 5)</small><table border=\"1\" class=\"dataframe\"><thead><tr><th>article_id</th><th>fk_team_id</th><th>article_title</th><th>published_at</th><th>fk_title_id</th></tr><tr><td>str</td><td>i64</td><td>str</td><td>date</td><td>str</td></tr></thead><tbody><tr><td>&quot;f7d04530e69d8f68&quot;</td><td>8</td><td>&quot;McNeil &#x27;only deals in goal-of-…</td><td>2024-10-01</td><td>&quot;f7d04530e69d8f68_title&quot;</td></tr><tr><td>&quot;cdd2fbfbceedcd95&quot;</td><td>15</td><td>&quot;Are Forest the most advanced d…</td><td>2024-10-06</td><td>&quot;cdd2fbfbceedcd95_title&quot;</td></tr><tr><td>&quot;c78b9e565ad3a1ad&quot;</td><td>11</td><td>&quot;Can managers openly admit ment…</td><td>2024-10-10</td><td>&quot;c78b9e565ad3a1ad_title&quot;</td></tr><tr><td>&quot;d62c96c9f56a4946&quot;</td><td>4</td><td>&quot;Fast starts... thin bench&quot;</td><td>2024-10-01</td><td>&quot;d62c96c9f56a4946_title&quot;</td></tr><tr><td>&quot;2915c60e807fad38&quot;</td><td>3</td><td>&quot;&#x27;The atmosphere was something …</td><td>2024-10-03</td><td>&quot;2915c60e807fad38_title&quot;</td></tr><tr><td>&hellip;</td><td>&hellip;</td><td>&hellip;</td><td>&hellip;</td><td>&hellip;</td></tr><tr><td>&quot;4c464c176e47df86&quot;</td><td>4</td><td>&quot;Tottenham 3-1 Brentford: Bees …</td><td>2024-09-21</td><td>&quot;4c464c176e47df86_title&quot;</td></tr><tr><td>&quot;3b9c837ccf9fd114&quot;</td><td>13</td><td>&quot;Gossip: Ten Hag&#x27;s future in th…</td><td>2024-10-08</td><td>&quot;3b9c837ccf9fd114_title&quot;</td></tr><tr><td>&quot;a3bef726179d42a8&quot;</td><td>1</td><td>&quot;Liverpool 3-0 Bournemouth: Did…</td><td>2024-09-21</td><td>&quot;a3bef726179d42a8_title&quot;</td></tr><tr><td>&quot;9000289e879afec1&quot;</td><td>5</td><td>&quot;Brighton&#x27;s extreme approach un…</td><td>2024-09-28</td><td>&quot;9000289e879afec1_title&quot;</td></tr><tr><td>&quot;b5a547d6bd133998&quot;</td><td>13</td><td>&quot;&#x27;We are all on board together&#x27;…</td><td>2024-10-06</td><td>&quot;b5a547d6bd133998_title&quot;</td></tr></tbody></table></div>"
      ],
      "text/plain": [
       "shape: (29, 5)\n",
       "┌──────────────────┬────────────┬──────────────────────────┬──────────────┬────────────────────────┐\n",
       "│ article_id       ┆ fk_team_id ┆ article_title            ┆ published_at ┆ fk_title_id            │\n",
       "│ ---              ┆ ---        ┆ ---                      ┆ ---          ┆ ---                    │\n",
       "│ str              ┆ i64        ┆ str                      ┆ date         ┆ str                    │\n",
       "╞══════════════════╪════════════╪══════════════════════════╪══════════════╪════════════════════════╡\n",
       "│ f7d04530e69d8f68 ┆ 8          ┆ McNeil 'only deals in    ┆ 2024-10-01   ┆ f7d04530e69d8f68_title │\n",
       "│                  ┆            ┆ goal-of-…                ┆              ┆                        │\n",
       "│ cdd2fbfbceedcd95 ┆ 15         ┆ Are Forest the most      ┆ 2024-10-06   ┆ cdd2fbfbceedcd95_title │\n",
       "│                  ┆            ┆ advanced d…              ┆              ┆                        │\n",
       "│ c78b9e565ad3a1ad ┆ 11         ┆ Can managers openly      ┆ 2024-10-10   ┆ c78b9e565ad3a1ad_title │\n",
       "│                  ┆            ┆ admit ment…              ┆              ┆                        │\n",
       "│ d62c96c9f56a4946 ┆ 4          ┆ Fast starts... thin      ┆ 2024-10-01   ┆ d62c96c9f56a4946_title │\n",
       "│                  ┆            ┆ bench                    ┆              ┆                        │\n",
       "│ 2915c60e807fad38 ┆ 3          ┆ 'The atmosphere was      ┆ 2024-10-03   ┆ 2915c60e807fad38_title │\n",
       "│                  ┆            ┆ something …              ┆              ┆                        │\n",
       "│ …                ┆ …          ┆ …                        ┆ …            ┆ …                      │\n",
       "│ 4c464c176e47df86 ┆ 4          ┆ Tottenham 3-1 Brentford: ┆ 2024-09-21   ┆ 4c464c176e47df86_title │\n",
       "│                  ┆            ┆ Bees …                   ┆              ┆                        │\n",
       "│ 3b9c837ccf9fd114 ┆ 13         ┆ Gossip: Ten Hag's future ┆ 2024-10-08   ┆ 3b9c837ccf9fd114_title │\n",
       "│                  ┆            ┆ in th…                   ┆              ┆                        │\n",
       "│ a3bef726179d42a8 ┆ 1          ┆ Liverpool 3-0            ┆ 2024-09-21   ┆ a3bef726179d42a8_title │\n",
       "│                  ┆            ┆ Bournemouth: Did…        ┆              ┆                        │\n",
       "│ 9000289e879afec1 ┆ 5          ┆ Brighton's extreme       ┆ 2024-09-28   ┆ 9000289e879afec1_title │\n",
       "│                  ┆            ┆ approach un…             ┆              ┆                        │\n",
       "│ b5a547d6bd133998 ┆ 13         ┆ 'We are all on board     ┆ 2024-10-06   ┆ b5a547d6bd133998_title │\n",
       "│                  ┆            ┆ together'…               ┆              ┆                        │\n",
       "└──────────────────┴────────────┴──────────────────────────┴──────────────┴────────────────────────┘"
      ]
     },
     "execution_count": 32,
     "metadata": {},
     "output_type": "execute_result"
    }
   ],
   "source": [
    "df_article"
   ]
  }
 ],
 "metadata": {
  "kernelspec": {
   "display_name": ".venv",
   "language": "python",
   "name": "python3"
  },
  "language_info": {
   "codemirror_mode": {
    "name": "ipython",
    "version": 3
   },
   "file_extension": ".py",
   "mimetype": "text/x-python",
   "name": "python",
   "nbconvert_exporter": "python",
   "pygments_lexer": "ipython3",
   "version": "3.12.3"
  }
 },
 "nbformat": 4,
 "nbformat_minor": 2
}
