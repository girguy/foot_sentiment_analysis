{
 "cells": [
  {
   "cell_type": "code",
   "execution_count": 142,
   "metadata": {},
   "outputs": [],
   "source": [
    "# Standard library imports\n",
    "import os\n",
    "import sys\n",
    "import json\n",
    "from pattern.en import sentiment\n",
    "from datetime import datetime\n",
    "import hashlib\n",
    "\n",
    "\n",
    "# Third-party library imports\n",
    "from bs4 import BeautifulSoup\n",
    "from dotenv import load_dotenv\n",
    "import polars as pl\n",
    "\n",
    "# Add project root to sys.path\n",
    "sys.path.append(os.path.abspath(os.path.join(os.path.abspath(''), '../..')))\n",
    "\n",
    "# Local project utility imports\n",
    "from utils.azure_blob_utils import (\n",
    "    create_blob_client_with_connection_string, \n",
    "    read_blob_from_container,\n",
    "    read_all_parquets_from_container\n",
    ")\n",
    "\n",
    "# load assets bronze_scrappe_epl_news\n",
    "# in order to be used as dependency\n",
    "from assets.bronze_assets.scrappe_epl_news import scrappe_epl_news\n",
    "\n",
    "\n",
    "load_dotenv()\n",
    "\n",
    "# Get path of the config file\n",
    "scrapper_config_path = os.path.join(sys.path[-1], 'scrapper_config.json')"
   ]
  },
  {
   "cell_type": "code",
   "execution_count": 143,
   "metadata": {},
   "outputs": [],
   "source": [
    "# Load the JSON file\n",
    "with open(scrapper_config_path, 'r') as file:\n",
    "    scrapper_config = json.load(file)\n",
    "\n",
    "# Load environment variables\n",
    "connection_string = os.environ.get(\"CONN_STRING_AZURE_STORAGE\")\n",
    "if connection_string is None:\n",
    "    raise EnvironmentError(\"Azure storage connection string not found in environment variables.\")\n",
    "\n",
    "# Create a blob client for Azure Blob Storage\n",
    "blob_service_client = create_blob_client_with_connection_string(connection_string)\n",
    "# List all blobs in the container"
   ]
  },
  {
   "cell_type": "code",
   "execution_count": 144,
   "metadata": {},
   "outputs": [],
   "source": [
    "folder_name = scrapper_config['folder_name']"
   ]
  },
  {
   "cell_type": "markdown",
   "metadata": {},
   "source": [
    "### BRONZE"
   ]
  },
  {
   "cell_type": "code",
   "execution_count": 145,
   "metadata": {},
   "outputs": [
    {
     "name": "stdout",
     "output_type": "stream",
     "text": [
      "Successfully read parquet file from bronze/epl_news/epl_news_2024_10_14.parquet\n",
      "Successfully read parquet file from bronze/epl_news/epl_news_2024_10_19.parquet\n"
     ]
    },
    {
     "data": {
      "text/html": [
       "<div><style>\n",
       ".dataframe > thead > tr,\n",
       ".dataframe > tbody > tr {\n",
       "  text-align: right;\n",
       "  white-space: pre-wrap;\n",
       "}\n",
       "</style>\n",
       "<small>shape: (5, 5)</small><table border=\"1\" class=\"dataframe\"><thead><tr><th>_hashedId</th><th>_extractedDate</th><th>teamName</th><th>page</th><th>html</th></tr><tr><td>str</td><td>datetime[μs]</td><td>str</td><td>i8</td><td>str</td></tr></thead><tbody><tr><td>&quot;9d4702a75dda24a4457b469e9e2577…</td><td>2024-10-14 20:50:02</td><td>&quot;AFC Bournemouth&quot;</td><td>1</td><td>&quot;&lt;!DOCTYPE html&gt;&lt;html lang=&quot;en-…</td></tr><tr><td>&quot;63cd46598c3f0164ccc77b4ba38090…</td><td>2024-10-14 20:50:02</td><td>&quot;AFC Bournemouth&quot;</td><td>2</td><td>&quot;&lt;!DOCTYPE html&gt;&lt;html lang=&quot;en-…</td></tr><tr><td>&quot;4b44c64ebb2c9e14de13eb15292330…</td><td>2024-10-14 20:50:02</td><td>&quot;Arsenal&quot;</td><td>1</td><td>&quot;&lt;!DOCTYPE html&gt;&lt;html lang=&quot;en-…</td></tr><tr><td>&quot;18bdeafc8ca33ccfa530d07470a354…</td><td>2024-10-14 20:50:02</td><td>&quot;Arsenal&quot;</td><td>2</td><td>&quot;&lt;!DOCTYPE html&gt;&lt;html lang=&quot;en-…</td></tr><tr><td>&quot;3cef8d9424daf9ff6a38c1c2a325d7…</td><td>2024-10-14 20:50:02</td><td>&quot;Aston Villa&quot;</td><td>1</td><td>&quot;&lt;!DOCTYPE html&gt;&lt;html lang=&quot;en-…</td></tr></tbody></table></div>"
      ],
      "text/plain": [
       "shape: (5, 5)\n",
       "┌────────────────────────────┬─────────────────────┬─────────────────┬──────┬──────────────────────┐\n",
       "│ _hashedId                  ┆ _extractedDate      ┆ teamName        ┆ page ┆ html                 │\n",
       "│ ---                        ┆ ---                 ┆ ---             ┆ ---  ┆ ---                  │\n",
       "│ str                        ┆ datetime[μs]        ┆ str             ┆ i8   ┆ str                  │\n",
       "╞════════════════════════════╪═════════════════════╪═════════════════╪══════╪══════════════════════╡\n",
       "│ 9d4702a75dda24a4457b469e9e ┆ 2024-10-14 20:50:02 ┆ AFC Bournemouth ┆ 1    ┆ <!DOCTYPE html><html │\n",
       "│ 2577…                      ┆                     ┆                 ┆      ┆ lang=\"en-…           │\n",
       "│ 63cd46598c3f0164ccc77b4ba3 ┆ 2024-10-14 20:50:02 ┆ AFC Bournemouth ┆ 2    ┆ <!DOCTYPE html><html │\n",
       "│ 8090…                      ┆                     ┆                 ┆      ┆ lang=\"en-…           │\n",
       "│ 4b44c64ebb2c9e14de13eb1529 ┆ 2024-10-14 20:50:02 ┆ Arsenal         ┆ 1    ┆ <!DOCTYPE html><html │\n",
       "│ 2330…                      ┆                     ┆                 ┆      ┆ lang=\"en-…           │\n",
       "│ 18bdeafc8ca33ccfa530d07470 ┆ 2024-10-14 20:50:02 ┆ Arsenal         ┆ 2    ┆ <!DOCTYPE html><html │\n",
       "│ a354…                      ┆                     ┆                 ┆      ┆ lang=\"en-…           │\n",
       "│ 3cef8d9424daf9ff6a38c1c2a3 ┆ 2024-10-14 20:50:02 ┆ Aston Villa     ┆ 1    ┆ <!DOCTYPE html><html │\n",
       "│ 25d7…                      ┆                     ┆                 ┆      ┆ lang=\"en-…           │\n",
       "└────────────────────────────┴─────────────────────┴─────────────────┴──────┴──────────────────────┘"
      ]
     },
     "execution_count": 145,
     "metadata": {},
     "output_type": "execute_result"
    }
   ],
   "source": [
    "bronze_container_name = scrapper_config['bronze_container_name']\n",
    "\n",
    "df_epl_news = read_all_parquets_from_container(bronze_container_name, folder_name, blob_service_client)\n",
    "df_epl_news.head()"
   ]
  },
  {
   "cell_type": "markdown",
   "metadata": {},
   "source": [
    "### SILVER"
   ]
  },
  {
   "cell_type": "code",
   "execution_count": 146,
   "metadata": {},
   "outputs": [
    {
     "name": "stdout",
     "output_type": "stream",
     "text": [
      "Successfully read blob from silver/epl_news/processed_data.parquet\n"
     ]
    },
    {
     "data": {
      "text/html": [
       "<div><style>\n",
       ".dataframe > thead > tr,\n",
       ".dataframe > tbody > tr {\n",
       "  text-align: right;\n",
       "  white-space: pre-wrap;\n",
       "}\n",
       "</style>\n",
       "<small>shape: (5, 5)</small><table border=\"1\" class=\"dataframe\"><thead><tr><th>teamName</th><th>publishedDate</th><th>title</th><th>content</th><th>id</th></tr><tr><td>str</td><td>date</td><td>str</td><td>str</td><td>str</td></tr></thead><tbody><tr><td>&quot;Nottingham Forest&quot;</td><td>2024-10-08</td><td>&quot;Is the new VAR working?&quot;</td><td>&quot;A VAR related question was put…</td><td>&quot;1a3517a2e392df62&quot;</td></tr><tr><td>&quot;Ipswich Town&quot;</td><td>2024-10-14</td><td>&quot;&#x27;I&#x27;m sticking with my relegati…</td><td>&quot;A relegation-related question …</td><td>&quot;7003ce288ae187d6&quot;</td></tr><tr><td>&quot;Brighton &amp; Hove Albion&quot;</td><td>2024-09-28</td><td>&quot;Brighton&#x27;s extreme approach un…</td><td>&quot;There is no shame in losing th…</td><td>&quot;9000289e879afec1&quot;</td></tr><tr><td>&quot;Chelsea&quot;</td><td>2024-10-16</td><td>&quot;&#x27;Liverpool beware&#x27; - Chelsea a…</td><td>&quot;I can&#x27;t wait to get back to th…</td><td>&quot;3bd89bd4d4eca995&quot;</td></tr><tr><td>&quot;AFC Bournemouth&quot;</td><td>2024-10-05</td><td>&quot;&#x27;We have to be more ruthless&#x27; …</td><td>&quot;Bournemouth manager Andoni Ira…</td><td>&quot;962e77cc0727a069&quot;</td></tr></tbody></table></div>"
      ],
      "text/plain": [
       "shape: (5, 5)\n",
       "┌─────────────────────┬───────────────┬────────────────────┬────────────────────┬──────────────────┐\n",
       "│ teamName            ┆ publishedDate ┆ title              ┆ content            ┆ id               │\n",
       "│ ---                 ┆ ---           ┆ ---                ┆ ---                ┆ ---              │\n",
       "│ str                 ┆ date          ┆ str                ┆ str                ┆ str              │\n",
       "╞═════════════════════╪═══════════════╪════════════════════╪════════════════════╪══════════════════╡\n",
       "│ Nottingham Forest   ┆ 2024-10-08    ┆ Is the new VAR     ┆ A VAR related      ┆ 1a3517a2e392df62 │\n",
       "│                     ┆               ┆ working?           ┆ question was put…  ┆                  │\n",
       "│ Ipswich Town        ┆ 2024-10-14    ┆ 'I'm sticking with ┆ A                  ┆ 7003ce288ae187d6 │\n",
       "│                     ┆               ┆ my relegati…       ┆ relegation-related ┆                  │\n",
       "│                     ┆               ┆                    ┆ question …         ┆                  │\n",
       "│ Brighton & Hove     ┆ 2024-09-28    ┆ Brighton's extreme ┆ There is no shame  ┆ 9000289e879afec1 │\n",
       "│ Albion              ┆               ┆ approach un…       ┆ in losing th…      ┆                  │\n",
       "│ Chelsea             ┆ 2024-10-16    ┆ 'Liverpool beware' ┆ I can't wait to    ┆ 3bd89bd4d4eca995 │\n",
       "│                     ┆               ┆ - Chelsea a…       ┆ get back to th…    ┆                  │\n",
       "│ AFC Bournemouth     ┆ 2024-10-05    ┆ 'We have to be     ┆ Bournemouth        ┆ 962e77cc0727a069 │\n",
       "│                     ┆               ┆ more ruthless' …   ┆ manager Andoni     ┆                  │\n",
       "│                     ┆               ┆                    ┆ Ira…               ┆                  │\n",
       "└─────────────────────┴───────────────┴────────────────────┴────────────────────┴──────────────────┘"
      ]
     },
     "execution_count": 146,
     "metadata": {},
     "output_type": "execute_result"
    }
   ],
   "source": [
    "silver_container_name = scrapper_config['silver_container_name']\n",
    "\n",
    "df_epl_news = read_blob_from_container(silver_container_name, f\"{folder_name}/processed_data.parquet\", blob_service_client)\n",
    "df_epl_news.head()"
   ]
  },
  {
   "cell_type": "markdown",
   "metadata": {},
   "source": [
    "### GOLD"
   ]
  },
  {
   "cell_type": "code",
   "execution_count": 147,
   "metadata": {},
   "outputs": [
    {
     "name": "stdout",
     "output_type": "stream",
     "text": [
      "Successfully read blob from gold/epl_news/dim_date.parquet\n",
      "Successfully read blob from gold/epl_news/article.parquet\n",
      "Successfully read blob from gold/epl_news/dim_team.parquet\n",
      "Successfully read blob from gold/epl_news/reaction.parquet\n",
      "Successfully read blob from gold/epl_news/dim_sentiment.parquet\n",
      "Successfully read blob from gold/epl_news/fact_reaction.parquet\n",
      "Successfully read blob from gold/epl_news/fact_title.parquet\n"
     ]
    }
   ],
   "source": [
    "gold_container_name = scrapper_config['gold_container_name']\n",
    "folder_name = scrapper_config['folder_name']\n",
    "\n",
    "df_date = read_blob_from_container(gold_container_name, f\"{folder_name}/dim_date.parquet\", blob_service_client)\n",
    "df_article = read_blob_from_container(gold_container_name, f\"{folder_name}/article.parquet\", blob_service_client)\n",
    "df_team = read_blob_from_container(gold_container_name, f\"{folder_name}/dim_team.parquet\", blob_service_client)\n",
    "df_reaction = read_blob_from_container(gold_container_name, f\"{folder_name}/reaction.parquet\", blob_service_client)\n",
    "df_sentiment = read_blob_from_container(gold_container_name, f\"{folder_name}/dim_sentiment.parquet\", blob_service_client)\n",
    "df_fact_reaction = read_blob_from_container(gold_container_name, f\"{folder_name}/fact_reaction.parquet\", blob_service_client)\n",
    "df_fact_title = read_blob_from_container(gold_container_name, f\"{folder_name}/fact_title.parquet\", blob_service_client)\n"
   ]
  },
  {
   "cell_type": "code",
   "execution_count": 177,
   "metadata": {},
   "outputs": [],
   "source": [
    "def create_sentiment_trend_table(\n",
    "        df_fact_reaction: pl.DataFrame,\n",
    "        df_fact_title: pl.DataFrame,\n",
    "        df_date: pl.DataFrame) -> pl.DataFrame:\n",
    "\n",
    "    df_fact_reaction= df_fact_reaction.select(\n",
    "        [\n",
    "            'fk_sentiment_id', 'fk_team_id', 'fk_date_id', 'sentiment_score',\n",
    "            'subjectivity_score', 'is_subjective',\n",
    "        ]\n",
    "    )\n",
    "\n",
    "    df_fact_title= df_fact_title.select(\n",
    "        [\n",
    "            'fk_sentiment_id', 'fk_team_id', 'fk_date_id', 'sentiment_score',\n",
    "            'subjectivity_score', 'is_subjective',\n",
    "        ]\n",
    "    )\n",
    "\n",
    "    df_fact_sentiment_trend = pl.concat([df_fact_reaction, df_fact_title])\n",
    "\n",
    "    df_date = df_date.select(['date_id', 'year', 'week_of_year'])\n",
    "\n",
    "    df_fact_sentiment_trend = df_fact_sentiment_trend \\\n",
    "        .join(df_date, left_on='fk_date_id', right_on='date_id', how='left')\n",
    "\n",
    "    df_fact_sentiment_trend = df_fact_sentiment_trend \\\n",
    "        .join(df_sentiment, left_on='fk_sentiment_id', right_on='sentiment_id', how='left')\n",
    "\n",
    "    df_fact_sentiment_trend = df_fact_sentiment_trend.with_columns(\n",
    "        trend_id = pl.concat_str(\n",
    "            [\n",
    "                pl.lit('trend'), pl.col('fk_team_id'), pl.col('year'), pl.col('week_of_year')\n",
    "            ], separator='_'\n",
    "        )\n",
    "    )\n",
    "\n",
    "    # Count the sentiment_label occurrences for each trend_id\n",
    "    df_fact_sentiment_trend = df_fact_sentiment_trend.group_by(\"trend_id\").agg([\n",
    "        pl.col(\"fk_team_id\").first().alias(\"fk_team_id\"),\n",
    "        pl.col(\"fk_date_id\").first().alias(\"fk_date_id\"),\n",
    "        pl.len().alias(\"total_articles\"),  # Count the total number of articles\n",
    "        (pl.col(\"is_subjective\").mean() * 100).alias(\"subjectivity_level\"),  # Calculate subjectivity level as a percentage\n",
    "        (pl.col(\"sentiment_value\").mean() * 100).alias(\"trend_value\"),  # Adding trend value as mean sentiment_value\n",
    "        (pl.col(\"sentiment_label\") == \"positive\").sum().alias(\"total_positive_articles\"),\n",
    "        (pl.col(\"sentiment_label\") == \"negative\").sum().alias(\"total_negative_articles\"),\n",
    "        (pl.col(\"sentiment_label\") == \"neutral\").sum().alias(\"total_neutral_articles\")\n",
    "    ])\n",
    "    \n",
    "    return df_fact_sentiment_trend"
   ]
  },
  {
   "cell_type": "code",
   "execution_count": 178,
   "metadata": {},
   "outputs": [
    {
     "ename": "InvalidOperationError",
     "evalue": "arithmetic on string and numeric not allowed, try an explicit cast first\n\nResolved plan until failure:\n\n\t---> FAILED HERE RESOLVING 'group_by' <---\nAGGREGATE\n\t[col(\"fk_team_id\").first().alias(\"fk_team_id\"), col(\"fk_date_id\").first().alias(\"fk_date_id\"), len().alias(\"total_articles\"), [(col(\"is_subjective\").mean()) * (dyn int: 100)].alias(\"subjectivity_level\"), [(col(\"sentiment_value\").mean()) * (100.0)].alias(\"trend_value\")] BY [col(\"trend_id\")] FROM\n  DF [\"fk_sentiment_id\", \"fk_team_id\", \"fk_date_id\", \"sentiment_score\"]; PROJECT */11 COLUMNS; SELECTION: None",
     "output_type": "error",
     "traceback": [
      "\u001b[1;31m---------------------------------------------------------------------------\u001b[0m",
      "\u001b[1;31mInvalidOperationError\u001b[0m                     Traceback (most recent call last)",
      "Cell \u001b[1;32mIn[178], line 1\u001b[0m\n\u001b[1;32m----> 1\u001b[0m \u001b[43mcreate_sentiment_trend_table\u001b[49m\u001b[43m(\u001b[49m\u001b[43mdf_fact_reaction\u001b[49m\u001b[43m,\u001b[49m\u001b[43m \u001b[49m\u001b[43mdf_fact_title\u001b[49m\u001b[43m,\u001b[49m\u001b[43m \u001b[49m\u001b[43mdf_date\u001b[49m\u001b[43m)\u001b[49m\n",
      "Cell \u001b[1;32mIn[177], line 39\u001b[0m, in \u001b[0;36mcreate_sentiment_trend_table\u001b[1;34m(df_fact_reaction, df_fact_title, df_date)\u001b[0m\n\u001b[0;32m     30\u001b[0m df_fact_sentiment_trend \u001b[38;5;241m=\u001b[39m df_fact_sentiment_trend\u001b[38;5;241m.\u001b[39mwith_columns(\n\u001b[0;32m     31\u001b[0m     trend_id \u001b[38;5;241m=\u001b[39m pl\u001b[38;5;241m.\u001b[39mconcat_str(\n\u001b[0;32m     32\u001b[0m         [\n\u001b[1;32m   (...)\u001b[0m\n\u001b[0;32m     35\u001b[0m     )\n\u001b[0;32m     36\u001b[0m )\n\u001b[0;32m     38\u001b[0m \u001b[38;5;66;03m# Count the sentiment_label occurrences for each trend_id\u001b[39;00m\n\u001b[1;32m---> 39\u001b[0m df_fact_sentiment_trend \u001b[38;5;241m=\u001b[39m \u001b[43mdf_fact_sentiment_trend\u001b[49m\u001b[38;5;241;43m.\u001b[39;49m\u001b[43mgroup_by\u001b[49m\u001b[43m(\u001b[49m\u001b[38;5;124;43m\"\u001b[39;49m\u001b[38;5;124;43mtrend_id\u001b[39;49m\u001b[38;5;124;43m\"\u001b[39;49m\u001b[43m)\u001b[49m\u001b[38;5;241;43m.\u001b[39;49m\u001b[43magg\u001b[49m\u001b[43m(\u001b[49m\u001b[43m[\u001b[49m\n\u001b[0;32m     40\u001b[0m \u001b[43m    \u001b[49m\u001b[43mpl\u001b[49m\u001b[38;5;241;43m.\u001b[39;49m\u001b[43mcol\u001b[49m\u001b[43m(\u001b[49m\u001b[38;5;124;43m\"\u001b[39;49m\u001b[38;5;124;43mfk_team_id\u001b[39;49m\u001b[38;5;124;43m\"\u001b[39;49m\u001b[43m)\u001b[49m\u001b[38;5;241;43m.\u001b[39;49m\u001b[43mfirst\u001b[49m\u001b[43m(\u001b[49m\u001b[43m)\u001b[49m\u001b[38;5;241;43m.\u001b[39;49m\u001b[43malias\u001b[49m\u001b[43m(\u001b[49m\u001b[38;5;124;43m\"\u001b[39;49m\u001b[38;5;124;43mfk_team_id\u001b[39;49m\u001b[38;5;124;43m\"\u001b[39;49m\u001b[43m)\u001b[49m\u001b[43m,\u001b[49m\n\u001b[0;32m     41\u001b[0m \u001b[43m    \u001b[49m\u001b[43mpl\u001b[49m\u001b[38;5;241;43m.\u001b[39;49m\u001b[43mcol\u001b[49m\u001b[43m(\u001b[49m\u001b[38;5;124;43m\"\u001b[39;49m\u001b[38;5;124;43mfk_date_id\u001b[39;49m\u001b[38;5;124;43m\"\u001b[39;49m\u001b[43m)\u001b[49m\u001b[38;5;241;43m.\u001b[39;49m\u001b[43mfirst\u001b[49m\u001b[43m(\u001b[49m\u001b[43m)\u001b[49m\u001b[38;5;241;43m.\u001b[39;49m\u001b[43malias\u001b[49m\u001b[43m(\u001b[49m\u001b[38;5;124;43m\"\u001b[39;49m\u001b[38;5;124;43mfk_date_id\u001b[39;49m\u001b[38;5;124;43m\"\u001b[39;49m\u001b[43m)\u001b[49m\u001b[43m,\u001b[49m\n\u001b[0;32m     42\u001b[0m \u001b[43m    \u001b[49m\u001b[43mpl\u001b[49m\u001b[38;5;241;43m.\u001b[39;49m\u001b[43mlen\u001b[49m\u001b[43m(\u001b[49m\u001b[43m)\u001b[49m\u001b[38;5;241;43m.\u001b[39;49m\u001b[43malias\u001b[49m\u001b[43m(\u001b[49m\u001b[38;5;124;43m\"\u001b[39;49m\u001b[38;5;124;43mtotal_articles\u001b[39;49m\u001b[38;5;124;43m\"\u001b[39;49m\u001b[43m)\u001b[49m\u001b[43m,\u001b[49m\u001b[43m  \u001b[49m\u001b[38;5;66;43;03m# Count the total number of articles\u001b[39;49;00m\n\u001b[0;32m     43\u001b[0m \u001b[43m    \u001b[49m\u001b[43m(\u001b[49m\u001b[43mpl\u001b[49m\u001b[38;5;241;43m.\u001b[39;49m\u001b[43mcol\u001b[49m\u001b[43m(\u001b[49m\u001b[38;5;124;43m\"\u001b[39;49m\u001b[38;5;124;43mis_subjective\u001b[39;49m\u001b[38;5;124;43m\"\u001b[39;49m\u001b[43m)\u001b[49m\u001b[38;5;241;43m.\u001b[39;49m\u001b[43mmean\u001b[49m\u001b[43m(\u001b[49m\u001b[43m)\u001b[49m\u001b[43m \u001b[49m\u001b[38;5;241;43m*\u001b[39;49m\u001b[43m \u001b[49m\u001b[38;5;241;43m100\u001b[39;49m\u001b[43m)\u001b[49m\u001b[38;5;241;43m.\u001b[39;49m\u001b[43malias\u001b[49m\u001b[43m(\u001b[49m\u001b[38;5;124;43m\"\u001b[39;49m\u001b[38;5;124;43msubjectivity_level\u001b[39;49m\u001b[38;5;124;43m\"\u001b[39;49m\u001b[43m)\u001b[49m\u001b[43m,\u001b[49m\u001b[43m  \u001b[49m\u001b[38;5;66;43;03m# Calculate subjectivity level as a percentage\u001b[39;49;00m\n\u001b[0;32m     44\u001b[0m \u001b[43m    \u001b[49m\u001b[43m(\u001b[49m\u001b[43mpl\u001b[49m\u001b[38;5;241;43m.\u001b[39;49m\u001b[43mcol\u001b[49m\u001b[43m(\u001b[49m\u001b[38;5;124;43m\"\u001b[39;49m\u001b[38;5;124;43msentiment_value\u001b[39;49m\u001b[38;5;124;43m\"\u001b[39;49m\u001b[43m)\u001b[49m\u001b[38;5;241;43m.\u001b[39;49m\u001b[43mmean\u001b[49m\u001b[43m(\u001b[49m\u001b[43m)\u001b[49m\u001b[43m \u001b[49m\u001b[38;5;241;43m*\u001b[39;49m\u001b[43m \u001b[49m\u001b[38;5;241;43m100\u001b[39;49m\u001b[43m)\u001b[49m\u001b[38;5;241;43m.\u001b[39;49m\u001b[43malias\u001b[49m\u001b[43m(\u001b[49m\u001b[38;5;124;43m\"\u001b[39;49m\u001b[38;5;124;43mtrend_value\u001b[39;49m\u001b[38;5;124;43m\"\u001b[39;49m\u001b[43m)\u001b[49m\u001b[43m,\u001b[49m\u001b[43m  \u001b[49m\u001b[38;5;66;43;03m# Adding trend value as mean sentiment_value\u001b[39;49;00m\n\u001b[0;32m     45\u001b[0m \u001b[43m\u001b[49m\u001b[43m]\u001b[49m\u001b[43m)\u001b[49m\n\u001b[0;32m     47\u001b[0m \u001b[38;5;28;01mreturn\u001b[39;00m df_fact_sentiment_trend\n",
      "File \u001b[1;32mc:\\Users\\guygi\\Documents\\PROJET_DATA\\foot_sentiment_analysis\\.venv\\Lib\\site-packages\\polars\\dataframe\\group_by.py:232\u001b[0m, in \u001b[0;36mGroupBy.agg\u001b[1;34m(self, *aggs, **named_aggs)\u001b[0m\n\u001b[0;32m    123\u001b[0m \u001b[38;5;28;01mdef\u001b[39;00m \u001b[38;5;21magg\u001b[39m(\n\u001b[0;32m    124\u001b[0m     \u001b[38;5;28mself\u001b[39m,\n\u001b[0;32m    125\u001b[0m     \u001b[38;5;241m*\u001b[39maggs: IntoExpr \u001b[38;5;241m|\u001b[39m Iterable[IntoExpr],\n\u001b[0;32m    126\u001b[0m     \u001b[38;5;241m*\u001b[39m\u001b[38;5;241m*\u001b[39mnamed_aggs: IntoExpr,\n\u001b[0;32m    127\u001b[0m ) \u001b[38;5;241m-\u001b[39m\u001b[38;5;241m>\u001b[39m DataFrame:\n\u001b[0;32m    128\u001b[0m \u001b[38;5;250m    \u001b[39m\u001b[38;5;124;03m\"\"\"\u001b[39;00m\n\u001b[0;32m    129\u001b[0m \u001b[38;5;124;03m    Compute aggregations for each group of a group by operation.\u001b[39;00m\n\u001b[0;32m    130\u001b[0m \n\u001b[1;32m   (...)\u001b[0m\n\u001b[0;32m    226\u001b[0m \u001b[38;5;124;03m    └─────┴───────┴────────────────┘\u001b[39;00m\n\u001b[0;32m    227\u001b[0m \u001b[38;5;124;03m    \"\"\"\u001b[39;00m\n\u001b[0;32m    228\u001b[0m     \u001b[38;5;28;01mreturn\u001b[39;00m (\n\u001b[0;32m    229\u001b[0m         \u001b[38;5;28;43mself\u001b[39;49m\u001b[38;5;241;43m.\u001b[39;49m\u001b[43mdf\u001b[49m\u001b[38;5;241;43m.\u001b[39;49m\u001b[43mlazy\u001b[49m\u001b[43m(\u001b[49m\u001b[43m)\u001b[49m\n\u001b[0;32m    230\u001b[0m \u001b[43m        \u001b[49m\u001b[38;5;241;43m.\u001b[39;49m\u001b[43mgroup_by\u001b[49m\u001b[43m(\u001b[49m\u001b[38;5;241;43m*\u001b[39;49m\u001b[38;5;28;43mself\u001b[39;49m\u001b[38;5;241;43m.\u001b[39;49m\u001b[43mby\u001b[49m\u001b[43m,\u001b[49m\u001b[43m \u001b[49m\u001b[38;5;241;43m*\u001b[39;49m\u001b[38;5;241;43m*\u001b[39;49m\u001b[38;5;28;43mself\u001b[39;49m\u001b[38;5;241;43m.\u001b[39;49m\u001b[43mnamed_by\u001b[49m\u001b[43m,\u001b[49m\u001b[43m \u001b[49m\u001b[43mmaintain_order\u001b[49m\u001b[38;5;241;43m=\u001b[39;49m\u001b[38;5;28;43mself\u001b[39;49m\u001b[38;5;241;43m.\u001b[39;49m\u001b[43mmaintain_order\u001b[49m\u001b[43m)\u001b[49m\n\u001b[0;32m    231\u001b[0m \u001b[43m        \u001b[49m\u001b[38;5;241;43m.\u001b[39;49m\u001b[43magg\u001b[49m\u001b[43m(\u001b[49m\u001b[38;5;241;43m*\u001b[39;49m\u001b[43maggs\u001b[49m\u001b[43m,\u001b[49m\u001b[43m \u001b[49m\u001b[38;5;241;43m*\u001b[39;49m\u001b[38;5;241;43m*\u001b[39;49m\u001b[43mnamed_aggs\u001b[49m\u001b[43m)\u001b[49m\n\u001b[1;32m--> 232\u001b[0m \u001b[43m        \u001b[49m\u001b[38;5;241;43m.\u001b[39;49m\u001b[43mcollect\u001b[49m\u001b[43m(\u001b[49m\u001b[43mno_optimization\u001b[49m\u001b[38;5;241;43m=\u001b[39;49m\u001b[38;5;28;43;01mTrue\u001b[39;49;00m\u001b[43m)\u001b[49m\n\u001b[0;32m    233\u001b[0m     )\n",
      "File \u001b[1;32mc:\\Users\\guygi\\Documents\\PROJET_DATA\\foot_sentiment_analysis\\.venv\\Lib\\site-packages\\polars\\lazyframe\\frame.py:2050\u001b[0m, in \u001b[0;36mLazyFrame.collect\u001b[1;34m(self, type_coercion, predicate_pushdown, projection_pushdown, simplify_expression, slice_pushdown, comm_subplan_elim, comm_subexpr_elim, cluster_with_columns, collapse_joins, no_optimization, streaming, engine, background, _eager, **_kwargs)\u001b[0m\n\u001b[0;32m   2048\u001b[0m \u001b[38;5;66;03m# Only for testing purposes\u001b[39;00m\n\u001b[0;32m   2049\u001b[0m callback \u001b[38;5;241m=\u001b[39m _kwargs\u001b[38;5;241m.\u001b[39mget(\u001b[38;5;124m\"\u001b[39m\u001b[38;5;124mpost_opt_callback\u001b[39m\u001b[38;5;124m\"\u001b[39m, callback)\n\u001b[1;32m-> 2050\u001b[0m \u001b[38;5;28;01mreturn\u001b[39;00m wrap_df(\u001b[43mldf\u001b[49m\u001b[38;5;241;43m.\u001b[39;49m\u001b[43mcollect\u001b[49m\u001b[43m(\u001b[49m\u001b[43mcallback\u001b[49m\u001b[43m)\u001b[49m)\n",
      "\u001b[1;31mInvalidOperationError\u001b[0m: arithmetic on string and numeric not allowed, try an explicit cast first\n\nResolved plan until failure:\n\n\t---> FAILED HERE RESOLVING 'group_by' <---\nAGGREGATE\n\t[col(\"fk_team_id\").first().alias(\"fk_team_id\"), col(\"fk_date_id\").first().alias(\"fk_date_id\"), len().alias(\"total_articles\"), [(col(\"is_subjective\").mean()) * (dyn int: 100)].alias(\"subjectivity_level\"), [(col(\"sentiment_value\").mean()) * (100.0)].alias(\"trend_value\")] BY [col(\"trend_id\")] FROM\n  DF [\"fk_sentiment_id\", \"fk_team_id\", \"fk_date_id\", \"sentiment_score\"]; PROJECT */11 COLUMNS; SELECTION: None"
     ]
    }
   ],
   "source": [
    "create_sentiment_trend_table(df_fact_reaction, df_fact_title, df_date)"
   ]
  }
 ],
 "metadata": {
  "kernelspec": {
   "display_name": ".venv",
   "language": "python",
   "name": "python3"
  },
  "language_info": {
   "codemirror_mode": {
    "name": "ipython",
    "version": 3
   },
   "file_extension": ".py",
   "mimetype": "text/x-python",
   "name": "python",
   "nbconvert_exporter": "python",
   "pygments_lexer": "ipython3",
   "version": "3.12.3"
  }
 },
 "nbformat": 4,
 "nbformat_minor": 2
}
