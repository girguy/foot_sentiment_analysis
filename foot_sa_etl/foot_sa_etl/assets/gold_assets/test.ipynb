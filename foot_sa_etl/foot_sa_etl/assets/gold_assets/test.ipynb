{
 "cells": [
  {
   "cell_type": "code",
   "execution_count": 12,
   "metadata": {},
   "outputs": [],
   "source": [
    "# Standard library imports\n",
    "import os\n",
    "import sys\n",
    "import json\n",
    "from datetime import datetime\n",
    "import hashlib\n",
    "from textblob import TextBlob\n",
    "\n",
    "\n",
    "# Third-party library imports\n",
    "from bs4 import BeautifulSoup\n",
    "from dotenv import load_dotenv\n",
    "import polars as pl\n",
    "\n",
    "# Add project root to sys.path\n",
    "sys.path.append(os.path.abspath(os.path.join(os.path.abspath(''), '../..')))\n",
    "\n",
    "# Local project utility imports\n",
    "from utils.azure_blob_utils import (\n",
    "    create_blob_client_with_connection_string, \n",
    "    read_blob_from_container,\n",
    "    read_all_parquets_from_container\n",
    ")\n",
    "\n",
    "# load assets bronze_scrappe_epl_news\n",
    "# in order to be used as dependency\n",
    "from assets.bronze_assets.scrappe_epl_news import scrappe_epl_news\n",
    "\n",
    "\n",
    "load_dotenv()\n",
    "\n",
    "# Get path of the config file\n",
    "scrapper_config_path = os.path.join(sys.path[-1], 'scrapper_config.json')"
   ]
  },
  {
   "cell_type": "code",
   "execution_count": 13,
   "metadata": {},
   "outputs": [],
   "source": [
    "# Load the JSON file\n",
    "with open(scrapper_config_path, 'r') as file:\n",
    "    scrapper_config = json.load(file)\n",
    "\n",
    "# Load environment variables\n",
    "connection_string = os.environ.get(\"CONN_STRING_AZURE_STORAGE\")\n",
    "if connection_string is None:\n",
    "    raise EnvironmentError(\"Azure storage connection string not found in environment variables.\")\n",
    "\n",
    "# Create a blob client for Azure Blob Storage\n",
    "blob_service_client = create_blob_client_with_connection_string(connection_string)\n",
    "# List all blobs in the container"
   ]
  },
  {
   "cell_type": "code",
   "execution_count": 204,
   "metadata": {},
   "outputs": [],
   "source": [
    "folder_name = scrapper_config['folder_name']"
   ]
  },
  {
   "cell_type": "markdown",
   "metadata": {},
   "source": [
    "### BRONZE"
   ]
  },
  {
   "cell_type": "code",
   "execution_count": 205,
   "metadata": {},
   "outputs": [
    {
     "name": "stdout",
     "output_type": "stream",
     "text": [
      "Successfully read parquet file from bronze/epl_news/epl_news_2024_10_14.parquet\n",
      "Successfully read parquet file from bronze/epl_news/epl_news_2024_10_19.parquet\n",
      "Successfully read parquet file from bronze/epl_news/epl_news_2024_10_20.parquet\n"
     ]
    },
    {
     "data": {
      "text/html": [
       "<div><style>\n",
       ".dataframe > thead > tr,\n",
       ".dataframe > tbody > tr {\n",
       "  text-align: right;\n",
       "  white-space: pre-wrap;\n",
       "}\n",
       "</style>\n",
       "<small>shape: (5, 5)</small><table border=\"1\" class=\"dataframe\"><thead><tr><th>_hashedId</th><th>_extractedDate</th><th>teamName</th><th>page</th><th>html</th></tr><tr><td>str</td><td>datetime[μs]</td><td>str</td><td>i8</td><td>str</td></tr></thead><tbody><tr><td>&quot;9d4702a75dda24a4457b469e9e2577…</td><td>2024-10-14 20:50:02</td><td>&quot;AFC Bournemouth&quot;</td><td>1</td><td>&quot;&lt;!DOCTYPE html&gt;&lt;html lang=&quot;en-…</td></tr><tr><td>&quot;63cd46598c3f0164ccc77b4ba38090…</td><td>2024-10-14 20:50:02</td><td>&quot;AFC Bournemouth&quot;</td><td>2</td><td>&quot;&lt;!DOCTYPE html&gt;&lt;html lang=&quot;en-…</td></tr><tr><td>&quot;4b44c64ebb2c9e14de13eb15292330…</td><td>2024-10-14 20:50:02</td><td>&quot;Arsenal&quot;</td><td>1</td><td>&quot;&lt;!DOCTYPE html&gt;&lt;html lang=&quot;en-…</td></tr><tr><td>&quot;18bdeafc8ca33ccfa530d07470a354…</td><td>2024-10-14 20:50:02</td><td>&quot;Arsenal&quot;</td><td>2</td><td>&quot;&lt;!DOCTYPE html&gt;&lt;html lang=&quot;en-…</td></tr><tr><td>&quot;3cef8d9424daf9ff6a38c1c2a325d7…</td><td>2024-10-14 20:50:02</td><td>&quot;Aston Villa&quot;</td><td>1</td><td>&quot;&lt;!DOCTYPE html&gt;&lt;html lang=&quot;en-…</td></tr></tbody></table></div>"
      ],
      "text/plain": [
       "shape: (5, 5)\n",
       "┌────────────────────────────┬─────────────────────┬─────────────────┬──────┬──────────────────────┐\n",
       "│ _hashedId                  ┆ _extractedDate      ┆ teamName        ┆ page ┆ html                 │\n",
       "│ ---                        ┆ ---                 ┆ ---             ┆ ---  ┆ ---                  │\n",
       "│ str                        ┆ datetime[μs]        ┆ str             ┆ i8   ┆ str                  │\n",
       "╞════════════════════════════╪═════════════════════╪═════════════════╪══════╪══════════════════════╡\n",
       "│ 9d4702a75dda24a4457b469e9e ┆ 2024-10-14 20:50:02 ┆ AFC Bournemouth ┆ 1    ┆ <!DOCTYPE html><html │\n",
       "│ 2577…                      ┆                     ┆                 ┆      ┆ lang=\"en-…           │\n",
       "│ 63cd46598c3f0164ccc77b4ba3 ┆ 2024-10-14 20:50:02 ┆ AFC Bournemouth ┆ 2    ┆ <!DOCTYPE html><html │\n",
       "│ 8090…                      ┆                     ┆                 ┆      ┆ lang=\"en-…           │\n",
       "│ 4b44c64ebb2c9e14de13eb1529 ┆ 2024-10-14 20:50:02 ┆ Arsenal         ┆ 1    ┆ <!DOCTYPE html><html │\n",
       "│ 2330…                      ┆                     ┆                 ┆      ┆ lang=\"en-…           │\n",
       "│ 18bdeafc8ca33ccfa530d07470 ┆ 2024-10-14 20:50:02 ┆ Arsenal         ┆ 2    ┆ <!DOCTYPE html><html │\n",
       "│ a354…                      ┆                     ┆                 ┆      ┆ lang=\"en-…           │\n",
       "│ 3cef8d9424daf9ff6a38c1c2a3 ┆ 2024-10-14 20:50:02 ┆ Aston Villa     ┆ 1    ┆ <!DOCTYPE html><html │\n",
       "│ 25d7…                      ┆                     ┆                 ┆      ┆ lang=\"en-…           │\n",
       "└────────────────────────────┴─────────────────────┴─────────────────┴──────┴──────────────────────┘"
      ]
     },
     "execution_count": 205,
     "metadata": {},
     "output_type": "execute_result"
    }
   ],
   "source": [
    "bronze_container_name = scrapper_config['bronze_container_name']\n",
    "\n",
    "df_epl_news = read_all_parquets_from_container(bronze_container_name, folder_name, blob_service_client)\n",
    "df_epl_news.head()"
   ]
  },
  {
   "cell_type": "code",
   "execution_count": 212,
   "metadata": {},
   "outputs": [
    {
     "data": {
      "text/plain": [
       "(280, 5)"
      ]
     },
     "execution_count": 212,
     "metadata": {},
     "output_type": "execute_result"
    }
   ],
   "source": [
    "df_epl_news.shape"
   ]
  },
  {
   "cell_type": "code",
   "execution_count": 214,
   "metadata": {},
   "outputs": [],
   "source": [
    "df_epl_news = df_epl_news.filter(pl.col('html') == 'HTTP error 500')"
   ]
  },
  {
   "cell_type": "markdown",
   "metadata": {},
   "source": [
    "### SILVER"
   ]
  },
  {
   "cell_type": "code",
   "execution_count": 199,
   "metadata": {},
   "outputs": [
    {
     "name": "stdout",
     "output_type": "stream",
     "text": [
      "Successfully read blob from silver/epl_news/processed_data.parquet\n"
     ]
    },
    {
     "data": {
      "text/html": [
       "<div><style>\n",
       ".dataframe > thead > tr,\n",
       ".dataframe > tbody > tr {\n",
       "  text-align: right;\n",
       "  white-space: pre-wrap;\n",
       "}\n",
       "</style>\n",
       "<small>shape: (5, 5)</small><table border=\"1\" class=\"dataframe\"><thead><tr><th>teamName</th><th>publishedDate</th><th>title</th><th>content</th><th>id</th></tr><tr><td>str</td><td>date</td><td>str</td><td>str</td><td>str</td></tr></thead><tbody><tr><td>&quot;Manchester United&quot;</td><td>2024-10-06</td><td>&quot;&#x27;We are all on board together&#x27;…</td><td>&quot;Manchester United manager Erik…</td><td>&quot;b5a547d6bd133998&quot;</td></tr><tr><td>&quot;Brighton &amp; Hove Albion&quot;</td><td>2024-09-20</td><td>&quot;Gossip: &#x27;Next Haaland&#x27; attract…</td><td>&quot;Newcastle are monitoring 18-ye…</td><td>&quot;228cc1b3c0579234&quot;</td></tr><tr><td>&quot;AFC Bournemouth&quot;</td><td>2024-10-09</td><td>&quot;&#x27;In career-best form for club …</td><td>&quot;As Bournemouth reflect on the …</td><td>&quot;d7779ed3529fccd4&quot;</td></tr><tr><td>&quot;Brentford&quot;</td><td>2024-09-21</td><td>&quot;Tottenham 3-1 Brentford: Bees …</td><td>&quot;It doesn&#x27;t get much tougher th…</td><td>&quot;4c464c176e47df86&quot;</td></tr><tr><td>&quot;Ipswich Town&quot;</td><td>2024-09-21</td><td>&quot;Sutton&#x27;s predictions: Southamp…</td><td>&quot;Sutton is making predictions f…</td><td>&quot;d8dee1f07bcad112&quot;</td></tr></tbody></table></div>"
      ],
      "text/plain": [
       "shape: (5, 5)\n",
       "┌─────────────────────┬───────────────┬────────────────────┬────────────────────┬──────────────────┐\n",
       "│ teamName            ┆ publishedDate ┆ title              ┆ content            ┆ id               │\n",
       "│ ---                 ┆ ---           ┆ ---                ┆ ---                ┆ ---              │\n",
       "│ str                 ┆ date          ┆ str                ┆ str                ┆ str              │\n",
       "╞═════════════════════╪═══════════════╪════════════════════╪════════════════════╪══════════════════╡\n",
       "│ Manchester United   ┆ 2024-10-06    ┆ 'We are all on     ┆ Manchester United  ┆ b5a547d6bd133998 │\n",
       "│                     ┆               ┆ board together'…   ┆ manager Erik…      ┆                  │\n",
       "│ Brighton & Hove     ┆ 2024-09-20    ┆ Gossip: 'Next      ┆ Newcastle are      ┆ 228cc1b3c0579234 │\n",
       "│ Albion              ┆               ┆ Haaland' attract…  ┆ monitoring 18-ye…  ┆                  │\n",
       "│ AFC Bournemouth     ┆ 2024-10-09    ┆ 'In career-best    ┆ As Bournemouth     ┆ d7779ed3529fccd4 │\n",
       "│                     ┆               ┆ form for club …    ┆ reflect on the …   ┆                  │\n",
       "│ Brentford           ┆ 2024-09-21    ┆ Tottenham 3-1      ┆ It doesn't get     ┆ 4c464c176e47df86 │\n",
       "│                     ┆               ┆ Brentford: Bees …  ┆ much tougher th…   ┆                  │\n",
       "│ Ipswich Town        ┆ 2024-09-21    ┆ Sutton's           ┆ Sutton is making   ┆ d8dee1f07bcad112 │\n",
       "│                     ┆               ┆ predictions:       ┆ predictions f…     ┆                  │\n",
       "│                     ┆               ┆ Southamp…          ┆                    ┆                  │\n",
       "└─────────────────────┴───────────────┴────────────────────┴────────────────────┴──────────────────┘"
      ]
     },
     "execution_count": 199,
     "metadata": {},
     "output_type": "execute_result"
    }
   ],
   "source": [
    "silver_container_name = scrapper_config['silver_container_name']\n",
    "\n",
    "df_epl_news = read_blob_from_container(silver_container_name, f\"{folder_name}/processed_data.parquet\", blob_service_client)\n",
    "df_epl_news.head()"
   ]
  },
  {
   "cell_type": "markdown",
   "metadata": {},
   "source": [
    "### GOLD"
   ]
  },
  {
   "cell_type": "code",
   "execution_count": 200,
   "metadata": {},
   "outputs": [
    {
     "name": "stdout",
     "output_type": "stream",
     "text": [
      "Successfully read blob from gold/epl_news/dim_date.parquet\n",
      "Successfully read blob from gold/epl_news/article.parquet\n",
      "Successfully read blob from gold/epl_news/dim_team.parquet\n",
      "Successfully read blob from gold/epl_news/reaction.parquet\n",
      "Successfully read blob from gold/epl_news/dim_sentiment.parquet\n",
      "Successfully read blob from gold/epl_news/fact_reaction.parquet\n",
      "Successfully read blob from gold/epl_news/fact_title.parquet\n"
     ]
    }
   ],
   "source": [
    "gold_container_name = scrapper_config['gold_container_name']\n",
    "folder_name = scrapper_config['folder_name']\n",
    "\n",
    "df_date = read_blob_from_container(gold_container_name, f\"{folder_name}/dim_date.parquet\", blob_service_client)\n",
    "df_article = read_blob_from_container(gold_container_name, f\"{folder_name}/article.parquet\", blob_service_client)\n",
    "df_team = read_blob_from_container(gold_container_name, f\"{folder_name}/dim_team.parquet\", blob_service_client)\n",
    "df_reaction = read_blob_from_container(gold_container_name, f\"{folder_name}/reaction.parquet\", blob_service_client)\n",
    "df_sentiment = read_blob_from_container(gold_container_name, f\"{folder_name}/dim_sentiment.parquet\", blob_service_client)\n",
    "df_fact_reaction = read_blob_from_container(gold_container_name, f\"{folder_name}/fact_reaction.parquet\", blob_service_client)\n",
    "df_fact_title = read_blob_from_container(gold_container_name, f\"{folder_name}/fact_title.parquet\", blob_service_client)\n"
   ]
  },
  {
   "cell_type": "code",
   "execution_count": 201,
   "metadata": {},
   "outputs": [
    {
     "data": {
      "text/html": [
       "<div><style>\n",
       ".dataframe > thead > tr,\n",
       ".dataframe > tbody > tr {\n",
       "  text-align: right;\n",
       "  white-space: pre-wrap;\n",
       "}\n",
       "</style>\n",
       "<small>shape: (192, 5)</small><table border=\"1\" class=\"dataframe\"><thead><tr><th>teamName</th><th>publishedDate</th><th>title</th><th>content</th><th>id</th></tr><tr><td>str</td><td>date</td><td>str</td><td>str</td><td>str</td></tr></thead><tbody><tr><td>&quot;Manchester United&quot;</td><td>2024-10-06</td><td>&quot;&#x27;We are all on board together&#x27;…</td><td>&quot;Manchester United manager Erik…</td><td>&quot;b5a547d6bd133998&quot;</td></tr><tr><td>&quot;Brighton &amp; Hove Albion&quot;</td><td>2024-09-20</td><td>&quot;Gossip: &#x27;Next Haaland&#x27; attract…</td><td>&quot;Newcastle are monitoring 18-ye…</td><td>&quot;228cc1b3c0579234&quot;</td></tr><tr><td>&quot;AFC Bournemouth&quot;</td><td>2024-10-09</td><td>&quot;&#x27;In career-best form for club …</td><td>&quot;As Bournemouth reflect on the …</td><td>&quot;d7779ed3529fccd4&quot;</td></tr><tr><td>&quot;Brentford&quot;</td><td>2024-09-21</td><td>&quot;Tottenham 3-1 Brentford: Bees …</td><td>&quot;It doesn&#x27;t get much tougher th…</td><td>&quot;4c464c176e47df86&quot;</td></tr><tr><td>&quot;Ipswich Town&quot;</td><td>2024-09-21</td><td>&quot;Sutton&#x27;s predictions: Southamp…</td><td>&quot;Sutton is making predictions f…</td><td>&quot;d8dee1f07bcad112&quot;</td></tr><tr><td>&hellip;</td><td>&hellip;</td><td>&hellip;</td><td>&hellip;</td><td>&hellip;</td></tr><tr><td>&quot;Leicester City&quot;</td><td>2024-10-15</td><td>&quot;&#x27;A better team than their posi…</td><td>&quot;Former Leicester City winger M…</td><td>&quot;7693c9b40a225c22&quot;</td></tr><tr><td>&quot;Manchester United&quot;</td><td>2024-10-10</td><td>&quot;Man Utd need to &#x27;find a spark&#x27;…</td><td>&quot;One of the misconceptions we d…</td><td>&quot;83582d92aca9bdcd&quot;</td></tr><tr><td>&quot;Nottingham Forest&quot;</td><td>2024-08-30</td><td>&quot;&#x27;We are confident Ward-Prowse …</td><td>&quot;Nottingham Forest&#x27;s newest rec…</td><td>&quot;70b451b76b36be39&quot;</td></tr><tr><td>&quot;Brentford&quot;</td><td>2024-10-01</td><td>&quot;Fast starts... thin bench&quot;</td><td>&quot;Don&#x27;t say I didn&#x27;t warn you! I…</td><td>&quot;d62c96c9f56a4946&quot;</td></tr><tr><td>&quot;West Ham United&quot;</td><td>2024-08-12</td><td>&quot;How did each club do in pre-se…</td><td>&quot;The curtain opens on the 2024-…</td><td>&quot;92e642be4a590eca&quot;</td></tr></tbody></table></div>"
      ],
      "text/plain": [
       "shape: (192, 5)\n",
       "┌─────────────────────┬───────────────┬────────────────────┬────────────────────┬──────────────────┐\n",
       "│ teamName            ┆ publishedDate ┆ title              ┆ content            ┆ id               │\n",
       "│ ---                 ┆ ---           ┆ ---                ┆ ---                ┆ ---              │\n",
       "│ str                 ┆ date          ┆ str                ┆ str                ┆ str              │\n",
       "╞═════════════════════╪═══════════════╪════════════════════╪════════════════════╪══════════════════╡\n",
       "│ Manchester United   ┆ 2024-10-06    ┆ 'We are all on     ┆ Manchester United  ┆ b5a547d6bd133998 │\n",
       "│                     ┆               ┆ board together'…   ┆ manager Erik…      ┆                  │\n",
       "│ Brighton & Hove     ┆ 2024-09-20    ┆ Gossip: 'Next      ┆ Newcastle are      ┆ 228cc1b3c0579234 │\n",
       "│ Albion              ┆               ┆ Haaland' attract…  ┆ monitoring 18-ye…  ┆                  │\n",
       "│ AFC Bournemouth     ┆ 2024-10-09    ┆ 'In career-best    ┆ As Bournemouth     ┆ d7779ed3529fccd4 │\n",
       "│                     ┆               ┆ form for club …    ┆ reflect on the …   ┆                  │\n",
       "│ Brentford           ┆ 2024-09-21    ┆ Tottenham 3-1      ┆ It doesn't get     ┆ 4c464c176e47df86 │\n",
       "│                     ┆               ┆ Brentford: Bees …  ┆ much tougher th…   ┆                  │\n",
       "│ Ipswich Town        ┆ 2024-09-21    ┆ Sutton's           ┆ Sutton is making   ┆ d8dee1f07bcad112 │\n",
       "│                     ┆               ┆ predictions:       ┆ predictions f…     ┆                  │\n",
       "│                     ┆               ┆ Southamp…          ┆                    ┆                  │\n",
       "│ …                   ┆ …             ┆ …                  ┆ …                  ┆ …                │\n",
       "│ Leicester City      ┆ 2024-10-15    ┆ 'A better team     ┆ Former Leicester   ┆ 7693c9b40a225c22 │\n",
       "│                     ┆               ┆ than their posi…   ┆ City winger M…     ┆                  │\n",
       "│ Manchester United   ┆ 2024-10-10    ┆ Man Utd need to    ┆ One of the         ┆ 83582d92aca9bdcd │\n",
       "│                     ┆               ┆ 'find a spark'…    ┆ misconceptions we  ┆                  │\n",
       "│                     ┆               ┆                    ┆ d…                 ┆                  │\n",
       "│ Nottingham Forest   ┆ 2024-08-30    ┆ 'We are confident  ┆ Nottingham         ┆ 70b451b76b36be39 │\n",
       "│                     ┆               ┆ Ward-Prowse …      ┆ Forest's newest    ┆                  │\n",
       "│                     ┆               ┆                    ┆ rec…               ┆                  │\n",
       "│ Brentford           ┆ 2024-10-01    ┆ Fast starts...     ┆ Don't say I didn't ┆ d62c96c9f56a4946 │\n",
       "│                     ┆               ┆ thin bench         ┆ warn you! I…       ┆                  │\n",
       "│ West Ham United     ┆ 2024-08-12    ┆ How did each club  ┆ The curtain opens  ┆ 92e642be4a590eca │\n",
       "│                     ┆               ┆ do in pre-se…      ┆ on the 2024-…      ┆                  │\n",
       "└─────────────────────┴───────────────┴────────────────────┴────────────────────┴──────────────────┘"
      ]
     },
     "execution_count": 201,
     "metadata": {},
     "output_type": "execute_result"
    }
   ],
   "source": [
    "df_epl_news"
   ]
  }
 ],
 "metadata": {
  "kernelspec": {
   "display_name": ".venv",
   "language": "python",
   "name": "python3"
  },
  "language_info": {
   "codemirror_mode": {
    "name": "ipython",
    "version": 3
   },
   "file_extension": ".py",
   "mimetype": "text/x-python",
   "name": "python",
   "nbconvert_exporter": "python",
   "pygments_lexer": "ipython3",
   "version": "3.12.3"
  }
 },
 "nbformat": 4,
 "nbformat_minor": 2
}
